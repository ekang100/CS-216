{
 "cells": [
  {
   "cell_type": "markdown",
   "metadata": {},
   "source": [
    "# Homework 05\n",
    "\n",
    "In this exercise, you will practice inferential statistics with confidence intervals, bootstrapping, and hypothesis testing. Problems may involve a combination of math and code. \n",
    "\n",
    "Recall that you can use LaTeX to nicely format your math inside Markdown cellsby enclosing equations in single dollar signs (e.g., $x^2+4=8$) for inline math or double dollar signs for centered equations like $$P(X > 5) = \\frac{1}{6}.$$ For a reference if you are new to LaTeX, see the [overleaf documentation for mathematical expressions](https://www.overleaf.com/learn/latex/mathematical_expressions). **Please note that Gradescope currently does not render ```\\begin{align} ... \\end{align}``` and ```\\begin{equation} ... \\end{equation}```. Consider using ```\\begin{aligned} ... \\end{aligned}``` as an alternative to save the graders some hassle.**\n",
    "\n",
    "Show your work and/or briefly explain your answers. In general, you will not receive full credit for numeric answers with no accompanying work or justification (math, code, explanation). For numeric answers, we will accept answers that are very slightly off due to rounding, z score of 2 vs. 1.96, etc. \n",
    "\n",
    "When you finish please go to Kernel --> Restart and Run All, and then double check that your notebook looks correct before submitting your .ipynb file (the notebook file) on gradescope."
   ]
  },
  {
   "cell_type": "code",
   "execution_count": 1,
   "metadata": {},
   "outputs": [],
   "source": [
    "# Run this code cell to import relevant libraries\n",
    "import numpy as np\n",
    "import pandas as pd\n",
    "from scipy import stats"
   ]
  },
  {
   "cell_type": "markdown",
   "metadata": {},
   "source": [
    "### Question 1\n",
    "\n",
    "1. A website is trying to increase registration for first-time visitors, exposing a random subset of these visitors to a new site design. Of $752$ randomly sampled visitors over a month who saw the new design, $64$ registered. Construct a $95\\%$ confidence interval for the percentage of visitors who would register for the website under the new design using the normal distribution. Save your answer in a tuple `q1_1` with two `numpy.float64` items that `q1_1[0]` is the left bound and `q1_1[1]` is the right bound. Use percentages for both bounds, for example, save $50.0$ in your answer for $50\\%$ of visitors.\n",
    "2. A study examined the average pay for a random sample of men and women entering the workforce as doctors for $21$ different positions. If each gender was equally paid, then we would expect about half of those positions to have men paid more than women and women would be paid more than men in the other half of positions. In the study, men were, on average, paid more in $17$ of the $21$ positions. Complete a hypothesis test using the normal distribution (two-sided or one-sided, just be clear which you are reporting) to examine whether there is significant evidence (at the $0.05$ level) of gender discrimination in pay in these positions. Report your p-value and interpret the result. Save your p-value in `q1_2` as a `numpy.float64` and interpret it in the **Answer 1.2** cell."
   ]
  },
  {
   "cell_type": "code",
   "execution_count": 2,
   "metadata": {
    "tags": []
   },
   "outputs": [
    {
     "name": "stdout",
     "output_type": "stream",
     "text": [
      "(6.516269200219607, 10.505007395525073)\n",
      "0.0022781749015925445\n"
     ]
    }
   ],
   "source": [
    "# Code for question 1\n",
    "# Leave these lines here for grading and ease of debugging\n",
    "n = 752\n",
    "reg = 64 / 752\n",
    "new_register = np.sqrt(reg*(1-reg)) / np.sqrt(n)\n",
    "new_register_conf = stats.norm.interval(alpha = 0.95, loc = reg, scale = new_register)\n",
    "q1_1 = (100 * new_register_conf[0], 100 * new_register_conf[1])\n",
    "print(q1_1)\n",
    "\n",
    "# Leave these lines here for grading and ease of debugging\n",
    "t_score = np.sqrt(21)*((17/21) - 0.5)/(np.sqrt(0.5*(1-0.5)))\n",
    "q1_2 = (1-stats.norm.cdf(t_score))\n",
    "print(q1_2)"
   ]
  },
  {
   "cell_type": "markdown",
   "metadata": {},
   "source": [
    "### Answer 1.2\n",
    "Write your interpretation for 1.2 here. There is no need to write anything for 1.1."
   ]
  },
  {
   "cell_type": "markdown",
   "metadata": {},
   "source": [
    "The p-value is approximately 0.00228, which is less than 0.05, so it is statistically significant. Thus, we reject the null hypothesis that men are paid more in 50% of the positions and women are paid more in the other positions. We can state that there is significant evidence of gender discriminatino in pay in these positions."
   ]
  },
  {
   "cell_type": "markdown",
   "metadata": {},
   "source": [
    "<!-- END QUESTION -->\n",
    "\n",
    "## Movie Ratings Data\n",
    "In the remainder of this assignment you will work with the movielens dataset of movie ratings that we have seen before. Below we import and preview the data. It consists of 2 tables: `users` has a row for every individual who has rated any movies, `movie-ratings` has a row for every rating of a particular movie by a particular user. This means users with multiple ratings are in the `movie_ratings` multiple times. The data is a random sample of all of the movie ratings made on the movielens service."
   ]
  },
  {
   "cell_type": "code",
   "execution_count": 3,
   "metadata": {},
   "outputs": [
    {
     "data": {
      "text/html": [
       "<div>\n",
       "<style scoped>\n",
       "    .dataframe tbody tr th:only-of-type {\n",
       "        vertical-align: middle;\n",
       "    }\n",
       "\n",
       "    .dataframe tbody tr th {\n",
       "        vertical-align: top;\n",
       "    }\n",
       "\n",
       "    .dataframe thead th {\n",
       "        text-align: right;\n",
       "    }\n",
       "</style>\n",
       "<table border=\"1\" class=\"dataframe\">\n",
       "  <thead>\n",
       "    <tr style=\"text-align: right;\">\n",
       "      <th></th>\n",
       "      <th>user_id</th>\n",
       "      <th>age</th>\n",
       "      <th>sex</th>\n",
       "      <th>occupation</th>\n",
       "    </tr>\n",
       "  </thead>\n",
       "  <tbody>\n",
       "    <tr>\n",
       "      <th>0</th>\n",
       "      <td>1</td>\n",
       "      <td>24</td>\n",
       "      <td>M</td>\n",
       "      <td>technician</td>\n",
       "    </tr>\n",
       "    <tr>\n",
       "      <th>1</th>\n",
       "      <td>2</td>\n",
       "      <td>53</td>\n",
       "      <td>F</td>\n",
       "      <td>other</td>\n",
       "    </tr>\n",
       "    <tr>\n",
       "      <th>2</th>\n",
       "      <td>3</td>\n",
       "      <td>23</td>\n",
       "      <td>M</td>\n",
       "      <td>writer</td>\n",
       "    </tr>\n",
       "    <tr>\n",
       "      <th>3</th>\n",
       "      <td>4</td>\n",
       "      <td>24</td>\n",
       "      <td>M</td>\n",
       "      <td>technician</td>\n",
       "    </tr>\n",
       "    <tr>\n",
       "      <th>4</th>\n",
       "      <td>5</td>\n",
       "      <td>33</td>\n",
       "      <td>F</td>\n",
       "      <td>other</td>\n",
       "    </tr>\n",
       "  </tbody>\n",
       "</table>\n",
       "</div>"
      ],
      "text/plain": [
       "   user_id  age sex  occupation\n",
       "0        1   24   M  technician\n",
       "1        2   53   F       other\n",
       "2        3   23   M      writer\n",
       "3        4   24   M  technician\n",
       "4        5   33   F       other"
      ]
     },
     "execution_count": 3,
     "metadata": {},
     "output_type": "execute_result"
    }
   ],
   "source": [
    "users = pd.read_csv(\"users.csv\")\n",
    "users.head()"
   ]
  },
  {
   "cell_type": "code",
   "execution_count": 4,
   "metadata": {},
   "outputs": [
    {
     "data": {
      "text/html": [
       "<div>\n",
       "<style scoped>\n",
       "    .dataframe tbody tr th:only-of-type {\n",
       "        vertical-align: middle;\n",
       "    }\n",
       "\n",
       "    .dataframe tbody tr th {\n",
       "        vertical-align: top;\n",
       "    }\n",
       "\n",
       "    .dataframe thead th {\n",
       "        text-align: right;\n",
       "    }\n",
       "</style>\n",
       "<table border=\"1\" class=\"dataframe\">\n",
       "  <thead>\n",
       "    <tr style=\"text-align: right;\">\n",
       "      <th></th>\n",
       "      <th>user_id</th>\n",
       "      <th>age</th>\n",
       "      <th>sex</th>\n",
       "      <th>occupation</th>\n",
       "      <th>movie_id</th>\n",
       "      <th>rating</th>\n",
       "      <th>movie_title</th>\n",
       "    </tr>\n",
       "  </thead>\n",
       "  <tbody>\n",
       "    <tr>\n",
       "      <th>0</th>\n",
       "      <td>1</td>\n",
       "      <td>24</td>\n",
       "      <td>M</td>\n",
       "      <td>technician</td>\n",
       "      <td>61</td>\n",
       "      <td>4</td>\n",
       "      <td>Three Colors: White (1994)</td>\n",
       "    </tr>\n",
       "    <tr>\n",
       "      <th>1</th>\n",
       "      <td>13</td>\n",
       "      <td>47</td>\n",
       "      <td>M</td>\n",
       "      <td>educator</td>\n",
       "      <td>61</td>\n",
       "      <td>4</td>\n",
       "      <td>Three Colors: White (1994)</td>\n",
       "    </tr>\n",
       "    <tr>\n",
       "      <th>2</th>\n",
       "      <td>18</td>\n",
       "      <td>35</td>\n",
       "      <td>F</td>\n",
       "      <td>other</td>\n",
       "      <td>61</td>\n",
       "      <td>4</td>\n",
       "      <td>Three Colors: White (1994)</td>\n",
       "    </tr>\n",
       "    <tr>\n",
       "      <th>3</th>\n",
       "      <td>58</td>\n",
       "      <td>27</td>\n",
       "      <td>M</td>\n",
       "      <td>programmer</td>\n",
       "      <td>61</td>\n",
       "      <td>5</td>\n",
       "      <td>Three Colors: White (1994)</td>\n",
       "    </tr>\n",
       "    <tr>\n",
       "      <th>4</th>\n",
       "      <td>59</td>\n",
       "      <td>49</td>\n",
       "      <td>M</td>\n",
       "      <td>educator</td>\n",
       "      <td>61</td>\n",
       "      <td>4</td>\n",
       "      <td>Three Colors: White (1994)</td>\n",
       "    </tr>\n",
       "  </tbody>\n",
       "</table>\n",
       "</div>"
      ],
      "text/plain": [
       "   user_id  age sex  occupation  movie_id  rating                 movie_title\n",
       "0        1   24   M  technician        61       4  Three Colors: White (1994)\n",
       "1       13   47   M    educator        61       4  Three Colors: White (1994)\n",
       "2       18   35   F       other        61       4  Three Colors: White (1994)\n",
       "3       58   27   M  programmer        61       5  Three Colors: White (1994)\n",
       "4       59   49   M    educator        61       4  Three Colors: White (1994)"
      ]
     },
     "execution_count": 4,
     "metadata": {},
     "output_type": "execute_result"
    }
   ],
   "source": [
    "movie_ratings = pd.read_csv(\"movies-all.csv\")\n",
    "movie_ratings.head()"
   ]
  },
  {
   "cell_type": "markdown",
   "metadata": {},
   "source": [
    "### Question 2\n",
    "1. Compute a $95\\%$ confidence interval for the mean `age` of users using the normal distribution. Save your answer in a tuple `q2_1` with two `numpy.float64` items that `q2_1[0]` is the left bound and `q2_1[1]` is the right bound.\n",
    "2. Compute a $95\\%$ confidence interval for the mean `age` of users who have rated the movie `Casablanca (1942)` using the normal distribution. Save your answer in `q2_2`, similar requirements as above.\n",
    "3. *Casablanca* is an old movie, one might suspect that it has been rated by older individuals on average than the entire dataset. Just looking at the confidence intervals you computed in steps 1 and 2, can you conclude that there is significant evidence for this belief? Why or why not? Put your answer in the **Answer 2.3** cell."
   ]
  },
  {
   "cell_type": "code",
   "execution_count": 5,
   "metadata": {
    "tags": []
   },
   "outputs": [
    {
     "name": "stdout",
     "output_type": "stream",
     "text": [
      "(33.27417039488504, 34.829753253047095)\n",
      "(34.46345637868268, 37.330782304444895)\n"
     ]
    }
   ],
   "source": [
    "# Code for question 2\n",
    "# Leave these lines here for grading and ease of debugging\n",
    "data_age = np.asarray(users[\"age\"])\n",
    "scale_age = np.std(data_age)/np.sqrt(len(data_age))\n",
    "conf_age = stats.norm.interval(alpha = 0.95, loc = np.mean(data_age), scale = scale_age)\n",
    "q2_1 = (conf_age[0], conf_age[1])\n",
    "print(q2_1)\n",
    "\n",
    "movie_ratings[\"casablanca_rated\"] = movie_ratings[\"movie_title\"] == \"Casablanca (1942)\"\n",
    "movie_ratings[\"casablanca_age\"] = movie_ratings[movie_ratings[\"casablanca_rated\"]][\"age\"]\n",
    "data_casablanca = movie_ratings[\"casablanca_age\"]\n",
    "data_casablanca = np.asarray(data_casablanca[~np.isnan(data_casablanca)])\n",
    "scale_casablanca = np.std(data_casablanca)/np.sqrt(len(data_casablanca))\n",
    "conf_cas = stats.norm.interval(alpha = 0.95, loc = np.mean(data_casablanca), scale = scale_casablanca)\n",
    "q2_2 = (conf_cas[0], conf_cas[1])\n",
    "\n",
    "# Leave these lines here for grading and ease of debugging\n",
    "print(q2_2)"
   ]
  },
  {
   "cell_type": "markdown",
   "metadata": {},
   "source": [
    "### Answer 2.3\n",
    "Write your interpretation for 2.3 here. There is no need to write anything for 2.1 & 2.2."
   ]
  },
  {
   "cell_type": "markdown",
   "metadata": {},
   "source": [
    "There is significant evidence of this belief. We can be 95% confident that the mean age of all the movie raters lies between 33.27 and 34.83. We can be 95% confident that the mean age of all the Casablanca raters lies between 34.46 and 37.33. The lower bound for Casablanca raters is higher than the lower bound for all movie raters, as is the upper bound."
   ]
  },
  {
   "cell_type": "markdown",
   "metadata": {},
   "source": [
    "<!-- END QUESTION -->\n",
    "\n",
    "### Question 3\n",
    "Only $18$ users have rated the movie `Lost in Space (1998)`.\n",
    "1. Use bootstrapping with $10000$ bootstrap resamples to compute a $95\\%$ confidence interval for the average `age` of users who have rated `Lost in Space (1998)`. Save your answer in a tuple `q3_1` with two `numpy.float64` items that `q3_1[0]` is the left bound and `q3_1[1]` is the right bound.\n",
    "2. One of the advantages of bootstrapping is that we can easily compute confidence intervals for arbitrary measurements of distributions. Use bootstrapping with $10000$ bootstrap resamples to compute a $95\\%$ confidence interval for the **median** `rating` of `Lost in Space (1998)`. Note that numpy provides a vectorized function for [calculating the median](https://numpy.org/doc/stable/reference/generated/numpy.median.html) as well as the mean. Save your answer in a tuple `q3_2` with two `numpy.float64` items. Similar requirements as above."
   ]
  },
  {
   "cell_type": "code",
   "execution_count": 6,
   "metadata": {
    "tags": []
   },
   "outputs": [
    {
     "name": "stdout",
     "output_type": "stream",
     "text": [
      "(26.11111111111111, 36.77777777777778)\n",
      "(2.5, 4.0)\n"
     ]
    }
   ],
   "source": [
    "# Code for question 3\n",
    "# Leave these lines here for grading and ease of debugging\n",
    "num_bootstraps = 10000\n",
    "movie_ratings[\"lost_rated\"] = movie_ratings[\"movie_title\"] == \"Lost in Space (1998)\"\n",
    "movie_ratings[\"lost_age\"] = movie_ratings[movie_ratings[\"lost_rated\"]][\"age\"]\n",
    "data_lost = movie_ratings[\"lost_age\"]\n",
    "data_lost = np.asarray(data_lost[~np.isnan(data_lost)])\n",
    "bootstrap_samples = np.random.choice(data_lost, size = (num_bootstraps, len(data_lost)), replace = True)\n",
    "bootstrap_means = np.mean(bootstrap_samples, axis = 1)\n",
    "q3_1 = (np.percentile(bootstrap_means, 2.5), np.percentile(bootstrap_means, 97.5))\n",
    "print(q3_1)\n",
    "\n",
    "# Leave these lines here for grading and ease of debugging\n",
    "movie_ratings[\"lost_rating\"] = movie_ratings[movie_ratings[\"lost_rated\"]][\"rating\"]\n",
    "data_lost_rating = movie_ratings[\"lost_rating\"]\n",
    "data_lost_rating = np.asarray(data_lost_rating[~np.isnan(data_lost_rating)])\n",
    "bootstrap_samples_rating = np.random.choice(data_lost_rating, size = (num_bootstraps, len(data_lost_rating)), replace = True)\n",
    "bootstrap_medians = np.median(bootstrap_samples_rating, axis = 1)\n",
    "q3_2 = (np.percentile(bootstrap_medians, 2.5), np.percentile(bootstrap_medians, 97.5))\n",
    "print(q3_2)"
   ]
  },
  {
   "cell_type": "markdown",
   "metadata": {},
   "source": [
    "### Question 4\n",
    "The `Star Wars (1977)` film is quite popular, with a median rating of `5` out of $5$. However, of those that left a rating, male users gave it a slightly higher average rating of about $4.4$ whereas female users gave the same movie an average rating of about $4.2$.\n",
    "\n",
    "1. Consider the null hypothesis that the average rating of `Star Wars (1977)` is the same for `sex='F'` and `sex='M'` users. The alternative hypothesis is that the average ratings are not equal. Conduct a two-sided t test using [`stats.ttest_ind`](https://docs.scipy.org/doc/scipy/reference/generated/scipy.stats.ttest_ind.html) to evaluate this using the sample ratings data. Report your p-value and interpret it at a significance level of $0.05$. Save your p-value in `q4_1` as a `numpy.float64` and interpret it in the **Answer 4** cell.\n",
    "\n",
    "2. Consider the null hypothesis that $51\\%$ of men would rate `Star Wars (1977)` a `5`. Conduct a two-sided hypothesis test using [`stats.t.cdf`](https://docs.scipy.org/doc/scipy/reference/generated/scipy.stats.t.html) to evaluate this in light of the sample ratings data of male users who rated `Star Wars (1977)`. Report your p-value and interpret it at a significance level of $0.05$. Save your p-value in `q4_2` as a `numpy.float64` and interpret it in the **Answer 4** cell.\n",
    "\n",
    "3. Consider the null hypothesis that women and men were equally likely to rate `Star Wars (1977)` a `5`. Conduct a two-sided t test using [`stats.ttest_ind_from_stats`](https://docs.scipy.org/doc/scipy/reference/generated/scipy.stats.ttest_ind_from_stats.html) to evaluate this in light of the sample data of female and male users who rated `Star Wars (1977)`. Report your p-value and interpret it at a significance level of $0.05$. Save your p-value in `q4_3` as a `numpy.float64` and interpret it in the **Answer 4** cell. You should observe a different p-value than in step 2 despite the hypotheses under consideration being ostensibly similar. Briefly explain why you observe this difference."
   ]
  },
  {
   "cell_type": "code",
   "execution_count": 7,
   "metadata": {
    "tags": []
   },
   "outputs": [
    {
     "name": "stdout",
     "output_type": "stream",
     "text": [
      "0.06606506021398857\n",
      "0.008010296971218134\n",
      "0.1717837459146108\n"
     ]
    },
    {
     "name": "stderr",
     "output_type": "stream",
     "text": [
      "C:\\Users\\ekang\\AppData\\Local\\Temp\\ipykernel_7656\\2284489735.py:3: UserWarning: Boolean Series key will be reindexed to match DataFrame index.\n",
      "  rating_female = movie_ratings[movie_ratings[\"movie_title\"] == \"Star Wars (1977)\"][movie_ratings[\"sex\"] == \"F\"][\"rating\"]\n",
      "C:\\Users\\ekang\\AppData\\Local\\Temp\\ipykernel_7656\\2284489735.py:4: UserWarning: Boolean Series key will be reindexed to match DataFrame index.\n",
      "  rating_male = movie_ratings[movie_ratings[\"movie_title\"] == \"Star Wars (1977)\"][movie_ratings[\"sex\"] == \"M\"][\"rating\"]\n",
      "C:\\Users\\ekang\\AppData\\Local\\Temp\\ipykernel_7656\\2284489735.py:11: UserWarning: Boolean Series key will be reindexed to match DataFrame index.\n",
      "  rating_male_5 = movie_ratings[movie_ratings[\"movie_title\"] == \"Star Wars (1977)\"][movie_ratings[\"sex\"] == \"M\"][movie_ratings[\"rating\"] == 5]\n",
      "C:\\Users\\ekang\\AppData\\Local\\Temp\\ipykernel_7656\\2284489735.py:21: UserWarning: Boolean Series key will be reindexed to match DataFrame index.\n",
      "  rating_female_5 = movie_ratings[movie_ratings[\"movie_title\"] == \"Star Wars (1977)\"][movie_ratings[\"sex\"] == \"F\"][movie_ratings[\"rating\"] == 5]\n"
     ]
    }
   ],
   "source": [
    "# Code for question 4\n",
    "# Leave these lines here for grading and ease of debugging\n",
    "rating_female = movie_ratings[movie_ratings[\"movie_title\"] == \"Star Wars (1977)\"][movie_ratings[\"sex\"] == \"F\"][\"rating\"]\n",
    "rating_male = movie_ratings[movie_ratings[\"movie_title\"] == \"Star Wars (1977)\"][movie_ratings[\"sex\"] == \"M\"][\"rating\"]\n",
    "\n",
    "q4_1_ttest = stats.ttest_ind(rating_female, rating_male)\n",
    "q4_1 = q4_1_ttest[1]\n",
    "print(q4_1)\n",
    "\n",
    "# Leave these lines here for grading and ease of debugging\n",
    "rating_male_5 = movie_ratings[movie_ratings[\"movie_title\"] == \"Star Wars (1977)\"][movie_ratings[\"sex\"] == \"M\"][movie_ratings[\"rating\"] == 5]\n",
    "rating_male_5_count = len(rating_male_5)\n",
    "rating_male_5_percent = rating_male_5_count / len(rating_male)\n",
    "x_bar = rating_male_5_percent - 0.51\n",
    "denom = np.sqrt(0.51 * (1 - 0.51))\n",
    "test_stat = (x_bar/denom) * (np.sqrt(len(rating_male)))\n",
    "q4_2 = 2*(1-stats.t.cdf(test_stat, len(rating_male) - 1))\n",
    "print(q4_2)\n",
    "\n",
    "# Leave these lines here for grading and ease of debugging\n",
    "rating_female_5 = movie_ratings[movie_ratings[\"movie_title\"] == \"Star Wars (1977)\"][movie_ratings[\"sex\"] == \"F\"][movie_ratings[\"rating\"] == 5]\n",
    "rating_female_5_count = len(rating_female_5)\n",
    "rating_female_5_percent = rating_female_5_count / len(rating_female)\n",
    "q4_3_test = stats.ttest_ind_from_stats(mean1 = rating_female_5_percent, std1 = np.sqrt(rating_female_5_percent*(1-rating_female_5_percent)), nobs1=len(rating_female),\n",
    "                                 mean2 = rating_male_5_percent, std2 = np.sqrt(rating_male_5_percent*(1-rating_male_5_percent)), nobs2 = len(rating_male))\n",
    "q4_3 = q4_3_test[1]\n",
    "print(q4_3)"
   ]
  },
  {
   "cell_type": "markdown",
   "metadata": {},
   "source": [
    "### Answer 4"
   ]
  },
  {
   "cell_type": "markdown",
   "metadata": {},
   "source": [
    "4.1: The p-value is 0.0661, which is greater than 0.05. It is not statistically significant, so we fail to reject the null hypothesis. Thus we cannot claim that the average rating for Star Wars is significantly different for males and females.\n",
    "\n",
    "4.2: The p-value is 0.008, which is less than 0.05. It is statistically significant, so we reject the null hypothesis. Thus, a proportion that is not 51% of men would rate Star Wars a 5.\n",
    "\n",
    "4.3: The p-value is 0.172, which is greater than 0.05. It is not statistically significant, so we fail to reject the null hypothesis. Thus we cannot claim that women and men were not equally likely to rate Star Wars a 5. The p-value is different from the previous question because this test is measuring means, while the previous question was looking at proportions. "
   ]
  },
  {
   "cell_type": "markdown",
   "metadata": {},
   "source": [
    "<!-- END QUESTION -->\n",
    "\n",
    "## Submitting\n",
    "\n",
    "You should make sure any code that you write to answer the questions is included in this notebook. We recommend you go to the Kernel option and choose \\\"Restart & Run All.\\\" Double check that your entire notebook runs correctly and generates the expected output. Finally, make sure to save your work (timestamp at the top tells you the last checkpoint and whether there are unsaved changes). When you finish, submit your assignment at [Gradescope](http://gradescope.com/)."
   ]
  }
 ],
 "metadata": {
  "kernelspec": {
   "display_name": "Python 3 (ipykernel)",
   "language": "python",
   "name": "python3"
  },
  "language_info": {
   "codemirror_mode": {
    "name": "ipython",
    "version": 3
   },
   "file_extension": ".py",
   "mimetype": "text/x-python",
   "name": "python",
   "nbconvert_exporter": "python",
   "pygments_lexer": "ipython3",
   "version": "3.9.12"
  },
  "otter": {
   "OK_FORMAT": true,
   "tests": {
    "q1": {
     "name": "q1",
     "points": [
      1,
      1,
      2,
      1,
      1
     ],
     "suites": [
      {
       "cases": [
        {
         "code": ">>> isinstance(q1_1, tuple)\nTrue",
         "hidden": false,
         "locked": false
        },
        {
         "code": ">>> # Looks like you might not have multiplied your confidence interval by 100.\n>>> [v >= 1 and v <= 100 for v in q1_1]\n[True, True]",
         "hidden": false,
         "locked": false
        },
        {
         "code": ">>> from auto_checks import check_q1_1\n>>> check_q1_1(q1_1)\n'PASS'",
         "hidden": false,
         "locked": false
        },
        {
         "code": ">>> import numpy\n>>> isinstance(q1_2, numpy.float64) or isinstance(q1_2, float)\nTrue",
         "hidden": false,
         "locked": false
        },
        {
         "code": ">>> from auto_checks import check_q1_2\n>>> check_q1_2(q1_2)\n'PASS'",
         "hidden": false,
         "locked": false
        }
       ],
       "scored": true,
       "setup": "",
       "teardown": "",
       "type": "doctest"
      }
     ]
    },
    "q2": {
     "name": "q2",
     "points": [
      1,
      1,
      2,
      1,
      1,
      2
     ],
     "suites": [
      {
       "cases": [
        {
         "code": ">>> isinstance(q2_1, tuple)\nTrue",
         "hidden": false,
         "locked": false
        },
        {
         "code": ">>> [v >= 1 and v <= 100 for v in q2_1]\n[True, True]",
         "hidden": false,
         "locked": false
        },
        {
         "code": ">>> from auto_checks import check_q2_1\n>>> check_q2_1(q2_1)\n'PASS'",
         "hidden": false,
         "locked": false
        },
        {
         "code": ">>> isinstance(q2_2, tuple)\nTrue",
         "hidden": false,
         "locked": false
        },
        {
         "code": ">>> [v >= 1 and v <= 100 for v in q2_2]\n[True, True]",
         "hidden": false,
         "locked": false
        },
        {
         "code": ">>> from auto_checks import check_q2_2\n>>> check_q2_2(q2_2)\n'PASS'",
         "hidden": false,
         "locked": false
        }
       ],
       "scored": true,
       "setup": "",
       "teardown": "",
       "type": "doctest"
      }
     ]
    },
    "q3": {
     "name": "q3",
     "points": [
      1,
      1,
      2,
      1,
      1,
      2
     ],
     "suites": [
      {
       "cases": [
        {
         "code": ">>> isinstance(q3_1, tuple)\nTrue",
         "hidden": false,
         "locked": false
        },
        {
         "code": ">>> [v >= 1 and v <= 100 for v in q3_1]\n[True, True]",
         "hidden": false,
         "locked": false
        },
        {
         "code": ">>> from auto_checks import check_q3_1\n>>> check_q3_1(q3_1)\n'PASS'",
         "hidden": false,
         "locked": false
        },
        {
         "code": ">>> isinstance(q3_2, tuple)\nTrue",
         "hidden": false,
         "locked": false
        },
        {
         "code": ">>> [v >= 0 and v <= 5 for v in q3_2]\n[True, True]",
         "hidden": false,
         "locked": false
        },
        {
         "code": ">>> from auto_checks import check_q3_2\n>>> check_q3_2(q3_2)\n'PASS'",
         "hidden": false,
         "locked": false
        }
       ],
       "scored": true,
       "setup": "",
       "teardown": "",
       "type": "doctest"
      }
     ]
    },
    "q4": {
     "name": "q4",
     "points": [
      1,
      1,
      1,
      1,
      1,
      1
     ],
     "suites": [
      {
       "cases": [
        {
         "code": ">>> import numpy\n>>> isinstance(q4_1, numpy.float64) or isinstance(q4_1, float)\nTrue",
         "hidden": false,
         "locked": false
        },
        {
         "code": ">>> from auto_checks import check_q4_1\n>>> check_q4_1(q4_1)\n'PASS'",
         "hidden": false,
         "locked": false
        },
        {
         "code": ">>> import numpy\n>>> isinstance(q4_2, numpy.float64) or isinstance(q4_2, float)\nTrue",
         "hidden": false,
         "locked": false
        },
        {
         "code": ">>> from auto_checks import check_q4_2\n>>> check_q4_2(q4_2)\n'PASS'",
         "hidden": false,
         "locked": false
        },
        {
         "code": ">>> import numpy\n>>> isinstance(q4_3, numpy.float64) or isinstance(q4_3, float)\nTrue",
         "hidden": false,
         "locked": false
        },
        {
         "code": ">>> from auto_checks import check_q4_3\n>>> check_q4_3(q4_3)\n'PASS'",
         "hidden": false,
         "locked": false
        }
       ],
       "scored": true,
       "setup": "",
       "teardown": "",
       "type": "doctest"
      }
     ]
    }
   }
  }
 },
 "nbformat": 4,
 "nbformat_minor": 4
}

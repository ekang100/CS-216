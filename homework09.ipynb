{
 "cells": [
  {
   "cell_type": "markdown",
   "metadata": {},
   "source": [
    "# Homework 09\n",
    "\n",
    "In this exercise, you will demonstrate your learning of prediction, including regression and classification, using the [scikit-learn library](https://scikit-learn.org/stable/index.html). Note that scikit-learn is included in the Anaconda distribution, so you should not need to install anything new to use it.\n",
    "\n",
    "Show your work (code or otherwise) and/or briefly explain your answers. In general you will not receive full credit for numeric answers with no accompanying work or justification (math, code, explanation). For numeric answers, we will accept answers that are very slightly off due to rounding."
   ]
  },
  {
   "cell_type": "code",
   "execution_count": 1,
   "metadata": {},
   "outputs": [],
   "source": [
    "# Run this code cell to import relevant libraries\n",
    "# Please update to seaborn v0.11 or above for this assignment\n",
    "# check version: print(sns.__version__)\n",
    "\n",
    "import numpy as np\n",
    "import pandas as pd\n",
    "import seaborn as sns"
   ]
  },
  {
   "cell_type": "markdown",
   "metadata": {},
   "source": [
    "### Question 1 (6 points; 4 autograded)\n",
    "Below we import the `tips` dataset containing information from several meals in a particular restaurant. We preview the first few rows."
   ]
  },
  {
   "cell_type": "code",
   "execution_count": 2,
   "metadata": {},
   "outputs": [
    {
     "name": "stdout",
     "output_type": "stream",
     "text": [
      "(244, 7)\n"
     ]
    },
    {
     "data": {
      "text/html": [
       "<div>\n",
       "<style scoped>\n",
       "    .dataframe tbody tr th:only-of-type {\n",
       "        vertical-align: middle;\n",
       "    }\n",
       "\n",
       "    .dataframe tbody tr th {\n",
       "        vertical-align: top;\n",
       "    }\n",
       "\n",
       "    .dataframe thead th {\n",
       "        text-align: right;\n",
       "    }\n",
       "</style>\n",
       "<table border=\"1\" class=\"dataframe\">\n",
       "  <thead>\n",
       "    <tr style=\"text-align: right;\">\n",
       "      <th></th>\n",
       "      <th>total_bill</th>\n",
       "      <th>tip</th>\n",
       "      <th>sex</th>\n",
       "      <th>smoker</th>\n",
       "      <th>day</th>\n",
       "      <th>time</th>\n",
       "      <th>size</th>\n",
       "    </tr>\n",
       "  </thead>\n",
       "  <tbody>\n",
       "    <tr>\n",
       "      <th>0</th>\n",
       "      <td>16.99</td>\n",
       "      <td>1.01</td>\n",
       "      <td>Female</td>\n",
       "      <td>No</td>\n",
       "      <td>Sun</td>\n",
       "      <td>Dinner</td>\n",
       "      <td>2</td>\n",
       "    </tr>\n",
       "    <tr>\n",
       "      <th>1</th>\n",
       "      <td>10.34</td>\n",
       "      <td>1.66</td>\n",
       "      <td>Male</td>\n",
       "      <td>No</td>\n",
       "      <td>Sun</td>\n",
       "      <td>Dinner</td>\n",
       "      <td>3</td>\n",
       "    </tr>\n",
       "    <tr>\n",
       "      <th>2</th>\n",
       "      <td>21.01</td>\n",
       "      <td>3.50</td>\n",
       "      <td>Male</td>\n",
       "      <td>No</td>\n",
       "      <td>Sun</td>\n",
       "      <td>Dinner</td>\n",
       "      <td>3</td>\n",
       "    </tr>\n",
       "    <tr>\n",
       "      <th>3</th>\n",
       "      <td>23.68</td>\n",
       "      <td>3.31</td>\n",
       "      <td>Male</td>\n",
       "      <td>No</td>\n",
       "      <td>Sun</td>\n",
       "      <td>Dinner</td>\n",
       "      <td>2</td>\n",
       "    </tr>\n",
       "    <tr>\n",
       "      <th>4</th>\n",
       "      <td>24.59</td>\n",
       "      <td>3.61</td>\n",
       "      <td>Female</td>\n",
       "      <td>No</td>\n",
       "      <td>Sun</td>\n",
       "      <td>Dinner</td>\n",
       "      <td>4</td>\n",
       "    </tr>\n",
       "  </tbody>\n",
       "</table>\n",
       "</div>"
      ],
      "text/plain": [
       "   total_bill   tip     sex smoker  day    time  size\n",
       "0       16.99  1.01  Female     No  Sun  Dinner     2\n",
       "1       10.34  1.66    Male     No  Sun  Dinner     3\n",
       "2       21.01  3.50    Male     No  Sun  Dinner     3\n",
       "3       23.68  3.31    Male     No  Sun  Dinner     2\n",
       "4       24.59  3.61  Female     No  Sun  Dinner     4"
      ]
     },
     "execution_count": 2,
     "metadata": {},
     "output_type": "execute_result"
    }
   ],
   "source": [
    "# Run but do not modify this code\n",
    "\n",
    "tips = sns.load_dataset(\"tips\")\n",
    "print(tips.shape)\n",
    "tips.head()"
   ]
  },
  {
   "cell_type": "markdown",
   "metadata": {},
   "source": [
    "We are interested in modeling `tip` as a function of `total_bill` and `size`. Use scikit-learn to perform linear regression to model `tip` as a function of `total_bill` and `size`. Once you have fit the model, obtain the model predictions and compare them to the real `tip`. Compute both the MSE (mean squared error) and the $r^2$ score (the square of Pearson's correlation coefficient). Report the MSE in `q1_mse` and the $r^2$ score in `q1_r2`, both are float/np.float.\n",
    "\n",
    "To contextualize the performance of your model, consider a baseline model which simply predicts the median `tip` for every transaction. Compute the MSE and $r^2$ scores for this baseline, and report them in `q1b_mse` and `q1b_r2`.\n",
    "\n",
    "Finally, in the written part below, discuss how the two models' MSE and $r^2$ scores compare, whether or not the results are reasonable, and why.\n",
    "\n",
    "Notes:\n",
    "- We import the relevant code from `sklearn` for you; you can find the documentation of the functions by searching the [scikit-learn library](https://scikit-learn.org/stable/index.html).\n",
    "- You do not need to split the data into train/test sets for this problem, you can just use the whole dataset.\n",
    "- You can use the default LinearRegression model, i.e., you do not need to pass any parameters to the constructor.\n",
    "- You may find [`np.full`](https://numpy.org/doc/stable/reference/generated/numpy.full.html) or [`np.full_like`](https://numpy.org/doc/stable/reference/generated/numpy.full_like.html) useful."
   ]
  },
  {
   "cell_type": "code",
   "execution_count": null,
   "metadata": {
    "tags": []
   },
   "outputs": [],
   "source": [
    "from sklearn.linear_model import LinearRegression\n",
    "from sklearn.metrics import mean_squared_error\n",
    "from sklearn.metrics import r2_score\n",
    "\n",
    "# Write your code for question 1 here\n",
    "# and store your results in the correct variable names for full credit\n",
    "\n",
    "data = tips[[\"total_bill\", \"size\"]].values\n",
    "target = tips[\"tip\"].values\n",
    "\n",
    "linear_model = LinearRegression()\n",
    "linear_model.fit(X=data, y=target)\n",
    "predicted = linear_model.predict(data)\n",
    "\n",
    "q1_mse = mean_squared_error(target, predicted)\n",
    "q1_r2 = r2_score(target, predicted)\n",
    "\n",
    "median = np.median(tips[\"tip\"])\n",
    "baseline = np.full(predicted.shape, median)\n",
    "q1b_mse = mean_squared_error(target, baseline)\n",
    "q1b_r2 = r2_score(target, baseline)\n",
    "\n",
    "# Leave these lines here to print the result\n",
    "print(\"Model MSE:\", q1_mse, \"r^2:\", q1_r2)\n",
    "print(\"Baseline MSE:\", q1b_mse, \"r^2:\", q1b_r2)"
   ]
  },
  {
   "cell_type": "markdown",
   "metadata": {},
   "source": [
    "<!-- BEGIN QUESTION -->\n",
    "\n",
    "### Answer 1"
   ]
  },
  {
   "cell_type": "markdown",
   "metadata": {},
   "source": [
    "The model's mean squared error is smaller than the baseline model's. The model's r^2 value is larger than the baseline model's. This model has better performance than the baseline model as indicated by both of these values. This is because the baseline model is much simpler than this given model."
   ]
  },
  {
   "cell_type": "markdown",
   "metadata": {},
   "source": [
    "<!-- END QUESTION -->\n",
    "\n",
    "### Question 2 (7 points; 4 autograded)\n",
    "Below we import and preview the `penguins` dataset. We have previously modeled the numerical `flipper_length_mm` feature. In this question, we will model the categorical `species` feature."
   ]
  },
  {
   "cell_type": "code",
   "execution_count": 3,
   "metadata": {},
   "outputs": [
    {
     "name": "stdout",
     "output_type": "stream",
     "text": [
      "(333, 7)\n"
     ]
    },
    {
     "data": {
      "text/html": [
       "<div>\n",
       "<style scoped>\n",
       "    .dataframe tbody tr th:only-of-type {\n",
       "        vertical-align: middle;\n",
       "    }\n",
       "\n",
       "    .dataframe tbody tr th {\n",
       "        vertical-align: top;\n",
       "    }\n",
       "\n",
       "    .dataframe thead th {\n",
       "        text-align: right;\n",
       "    }\n",
       "</style>\n",
       "<table border=\"1\" class=\"dataframe\">\n",
       "  <thead>\n",
       "    <tr style=\"text-align: right;\">\n",
       "      <th></th>\n",
       "      <th>species</th>\n",
       "      <th>island</th>\n",
       "      <th>bill_length_mm</th>\n",
       "      <th>bill_depth_mm</th>\n",
       "      <th>flipper_length_mm</th>\n",
       "      <th>body_mass_g</th>\n",
       "      <th>sex</th>\n",
       "    </tr>\n",
       "  </thead>\n",
       "  <tbody>\n",
       "    <tr>\n",
       "      <th>0</th>\n",
       "      <td>Adelie</td>\n",
       "      <td>Torgersen</td>\n",
       "      <td>39.1</td>\n",
       "      <td>18.7</td>\n",
       "      <td>181.0</td>\n",
       "      <td>3750.0</td>\n",
       "      <td>Male</td>\n",
       "    </tr>\n",
       "    <tr>\n",
       "      <th>1</th>\n",
       "      <td>Adelie</td>\n",
       "      <td>Torgersen</td>\n",
       "      <td>39.5</td>\n",
       "      <td>17.4</td>\n",
       "      <td>186.0</td>\n",
       "      <td>3800.0</td>\n",
       "      <td>Female</td>\n",
       "    </tr>\n",
       "    <tr>\n",
       "      <th>2</th>\n",
       "      <td>Adelie</td>\n",
       "      <td>Torgersen</td>\n",
       "      <td>40.3</td>\n",
       "      <td>18.0</td>\n",
       "      <td>195.0</td>\n",
       "      <td>3250.0</td>\n",
       "      <td>Female</td>\n",
       "    </tr>\n",
       "    <tr>\n",
       "      <th>4</th>\n",
       "      <td>Adelie</td>\n",
       "      <td>Torgersen</td>\n",
       "      <td>36.7</td>\n",
       "      <td>19.3</td>\n",
       "      <td>193.0</td>\n",
       "      <td>3450.0</td>\n",
       "      <td>Female</td>\n",
       "    </tr>\n",
       "    <tr>\n",
       "      <th>5</th>\n",
       "      <td>Adelie</td>\n",
       "      <td>Torgersen</td>\n",
       "      <td>39.3</td>\n",
       "      <td>20.6</td>\n",
       "      <td>190.0</td>\n",
       "      <td>3650.0</td>\n",
       "      <td>Male</td>\n",
       "    </tr>\n",
       "  </tbody>\n",
       "</table>\n",
       "</div>"
      ],
      "text/plain": [
       "  species     island  bill_length_mm  bill_depth_mm  flipper_length_mm  \\\n",
       "0  Adelie  Torgersen            39.1           18.7              181.0   \n",
       "1  Adelie  Torgersen            39.5           17.4              186.0   \n",
       "2  Adelie  Torgersen            40.3           18.0              195.0   \n",
       "4  Adelie  Torgersen            36.7           19.3              193.0   \n",
       "5  Adelie  Torgersen            39.3           20.6              190.0   \n",
       "\n",
       "   body_mass_g     sex  \n",
       "0       3750.0    Male  \n",
       "1       3800.0  Female  \n",
       "2       3250.0  Female  \n",
       "4       3450.0  Female  \n",
       "5       3650.0    Male  "
      ]
     },
     "execution_count": 3,
     "metadata": {},
     "output_type": "execute_result"
    }
   ],
   "source": [
    "# Run but do not modify this code\n",
    "# Only 11 penguins out of over 300 are missing any data;\n",
    "# we simply drop those here\n",
    "penguins = sns.load_dataset(\"penguins\").dropna()\n",
    "print(penguins.shape)\n",
    "penguins.head()"
   ]
  },
  {
   "cell_type": "markdown",
   "metadata": {},
   "source": [
    "To begin, we hold out 70% of the data randomly as a test set."
   ]
  },
  {
   "cell_type": "code",
   "execution_count": 4,
   "metadata": {},
   "outputs": [],
   "source": [
    "# Run but do not modify this code\n",
    "\n",
    "from sklearn.model_selection import train_test_split\n",
    "\n",
    "q2_data = penguins.drop(columns=[\"species\"])\n",
    "q2_target = penguins[\"species\"]\n",
    "q2_train_data, q2_test_data, q2_train_target, q2_test_target = train_test_split(\n",
    "    q2_data, q2_target, test_size=0.7, random_state=999)"
   ]
  },
  {
   "cell_type": "markdown",
   "metadata": {},
   "source": [
    "Now, create and fit a logistic regression model to predict the `species` of a penguin using all of the other features in the dataset.  Note that two of the features, `island` and `sex`, are categorical. Use one hot encoding to encode these categorical features in your model and combine them with the numerical features. You should fit your model only on the training data, i.e., `q2_train_data` and `q2_train_target`.\n",
    "\n",
    "Once you have fit your logistic regression model, make predictions for `q2_test_data` and then compute and report the `accuracy_score` of your predictions versus `q2_test_target`; put the `accuracy_score` in `q2_score` as `float`/`numpy.float64`. Also plot the confusion matrix for your predictions; see worked examples for more instructions on plotting confusion matricies. \n",
    "\n",
    "If everything goes right, your model should correctly distinguish a `species` from the other two (i.e., when your model predicts this species in the test data, it is always right). Put the name of this `species` in `q2_species` as a string.\n",
    "\n",
    "The performace of your model is really good, but we do not know which feature(s) contributed the most. To find out if the categorical features help, fit a simpler version of your logistic regression model that uses only the numerical features (i.e., everything except `island` and `sex`) in the dataset as a baseline. Repeat the same process, put its `accuracy_score` in `q2b_score`, and plot its confusion matrix. In the written part below, discuss how the two models' `accuracy_score` and their confusion matricies compare, whether or not the results are reasonable, and why.\n",
    "\n",
    "You are also welcomed to compare with a model that only uses the categorical features yourself, but that is not required in this homework.\n",
    "\n",
    "Details:\n",
    "- We import the relevant code from `sklearn` for you; you can find the documentation of the functions by searching the [scikit-learn library](https://scikit-learn.org/stable/index.html).\n",
    "- If you use the default LogisticRegression model, you will likely get a warning message about convergence during fitting. We recommend you set the parameter `max_iter=1000` when calling the constructor (i.e., `LogisticRegression(max_iter=1000)` for both models. This will allow the optimization code for the model to converge.\n",
    "- If your confusion matrix has distracting white lines, add a line `plt.grid(False)` after each call to `ConfusionMatrixDisplay` to remove them."
   ]
  },
  {
   "cell_type": "code",
   "execution_count": 5,
   "metadata": {
    "tags": []
   },
   "outputs": [
    {
     "name": "stdout",
     "output_type": "stream",
     "text": [
      "Model classification accuracy: 0.9786324786324786\n",
      "Baseline classification accuracy: 0.9786324786324786\n"
     ]
    },
    {
     "data": {
      "image/png": "[encoded data removed]",
      "text/plain": [
       "<Figure size 432x288 with 2 Axes>"
      ]
     },
     "metadata": {
      "needs_background": "light"
     },
     "output_type": "display_data"
    },
    {
     "data": {
      "image/png": "[encoded data removed]",
      "text/plain": [
       "<Figure size 432x288 with 2 Axes>"
      ]
     },
     "metadata": {
      "needs_background": "light"
     },
     "output_type": "display_data"
    }
   ],
   "source": [
    "from sklearn.linear_model import LogisticRegression\n",
    "from sklearn.preprocessing import OneHotEncoder\n",
    "from sklearn.metrics import accuracy_score\n",
    "from sklearn.metrics import ConfusionMatrixDisplay\n",
    "from sklearn import metrics\n",
    "import matplotlib.pyplot as plt # to better format confusion matrix\n",
    "\n",
    "# Write your code for question 2 here\n",
    "q2_species = \"Gentoo\" # string: the species that your model correctly predicts\n",
    "\n",
    "logistic_model = LogisticRegression(max_iter=1000)\n",
    "q2_train_data_coded = np.append(OneHotEncoder().fit_transform(q2_train_data[[\"sex\", \"island\"]].values).toarray(), q2_train_data[[\"bill_length_mm\", \"bill_depth_mm\", \"flipper_length_mm\", \"body_mass_g\"]], axis=1)\n",
    "logistic_model.fit(X=q2_train_data_coded, y=q2_train_target)\n",
    "q2_test_data_coded = np.append(OneHotEncoder().fit_transform(q2_test_data[[\"sex\", \"island\"]].values).toarray(), q2_test_data[[\"bill_length_mm\", \"bill_depth_mm\", \"flipper_length_mm\", \"body_mass_g\"]], axis=1)\n",
    "predicted = logistic_model.predict(q2_test_data_coded)\n",
    "\n",
    "base_model = LogisticRegression(max_iter=1000)\n",
    "base_data = q2_train_data[[\"bill_length_mm\", \"bill_depth_mm\", \"flipper_length_mm\", \"body_mass_g\"]]\n",
    "base_test = q2_test_data[[\"bill_length_mm\", \"bill_depth_mm\", \"flipper_length_mm\", \"body_mass_g\"]]\n",
    "base_model.fit(X=base_data, y=q2_train_target)\n",
    "baseline_predicted = base_model.predict(base_test)\n",
    "\n",
    "\n",
    "ConfusionMatrixDisplay.from_estimator(estimator=logistic_model, X=q2_test_data_coded, y=q2_test_target)\n",
    "plt.grid(False)\n",
    "ConfusionMatrixDisplay.from_estimator(estimator=base_model, X=base_test, y=q2_test_target)\n",
    "plt.grid(False)\n",
    "\n",
    "\n",
    "q2_score = accuracy_score(y_true=q2_test_target, y_pred=predicted)\n",
    "q2b_score = accuracy_score(y_true=q2_test_target, y_pred=baseline_predicted)\n",
    "\n",
    "\n",
    "# Leave these lines here to print the result\n",
    "print(\"Model classification accuracy:\", q2_score)\n",
    "print(\"Baseline classification accuracy:\", q2b_score)"
   ]
  },
  {
   "cell_type": "markdown",
   "metadata": {},
   "source": [
    "<!-- BEGIN QUESTION -->\n",
    "\n",
    "### Answer 2"
   ]
  },
  {
   "cell_type": "markdown",
   "metadata": {},
   "source": [
    "The confusion matrices and their accuracy scores are the same, so the island and sex do not matter for predictions. This makes sense since the sex of an animal is not a good predictor of its species. The island of a given penguin could be related to its species, however."
   ]
  },
  {
   "cell_type": "markdown",
   "metadata": {},
   "source": [
    "<!-- END QUESTION -->\n",
    "\n",
    "### Question 3 (7 points, 4 autograded)\n",
    "An interesting observation about classification in the bag of words model is that the predictive model knows nothing about the semantics of the particular language. For this question, you will build a sentiment analysis model of casual social media messages in the Central Thai language. The data consist of raw text messages, each of which is labeled with a *sentiment*, either negative `neg`, neutral `neu`, positive `pos`, or question `q`. For example, a message that reads \"I am happy you are my friend\" might be labeled as positive whereas one that reads \"It is raining right now\" might be labeled as neutral. The dataset is already split into a training and test set. We first import and preview the first ten messages and their sentiment labels."
   ]
  },
  {
   "cell_type": "code",
   "execution_count": 6,
   "metadata": {},
   "outputs": [
    {
     "name": "stdout",
     "output_type": "stream",
     "text": [
      "Training messages: ['คะ' 'อิเหี้ยออมทำกูอยากกินเอ็มเค' '😅😅😅' 'สวัสดีวันพุธ แนน อะไรนะ'\n",
      " 'ก้อนขอบพระคุณมากๆนะคร้าบ ที่มาหาก้อนและชมเชยการบริการของพนักงานอีกด้วย <3 <3'\n",
      " 'เน็ตควายมากกูพูดจริงเสียดายตังค์ที่ติดตั้งเน็ตโครตห่วยยิ่งดึกๆเน็ตยิ่งห่วยตอนมาติดตั้งใหม่ๆก็ดีนานๆไปเเย่ขึ้นเรื่อยๆกากกว่าเน็ตค่ายอื่นอ่ะบอกจริงไม่สนหรอกว่าจะเป็นเด็กเเล้วเม้นด่าเเบบนี้ เเต่นี้หาตังค์จ่ายค่าเน็ตมาตลอดเหนื่อยน่ะเล่นเกมส์ไปเดี่ยวก็หายกากเกินติดตั้งโปรพิเศษ100Mเเต่พอวัดดูปล่อยไม่ถึงเท่าที่ตกลงกันไว้พอโทรไปเเจ้งก็ปล่อยมาเต็มไม่กี่วันก็เหมื่อนเดิมใบเเจ้งก็มาย้อนหลัง3เดือนทุกครั้งห่วยไปน่ะบางทีโปร100M/700 กว่าบาทเเต่คุณภาพเเย่เสียดายตังค์'\n",
      " 'ปากแดงกินฟรีค่ะ 😬😬' 'เหล้าเบลล์รสชาติเหี้ยสุด จะไม่แดกอีกละ'\n",
      " '🚗💨💨 ซิ่งเป็นบางเวลา ซ่อกแซ่กได้ทุกที่ << ขับสนุก ชับมัน ใช่เลย‼️ 👍🏻👍🏻 Honda Jazz>>#Jazz Naja'\n",
      " 'สนใจ ฟอจูนเนอร์ สีขาวครับ'] \n",
      "\n",
      "Training message labels/classes: ['neu' 'neg' 'neu' 'neu' 'neu' 'neg' 'neu' 'neg' 'neu' 'pos']\n"
     ]
    }
   ],
   "source": [
    "# Run but do not modify this code\n",
    "\n",
    "# Training data\n",
    "q3_train_text = pd.read_table(\"train_text.txt\", dtype=str).squeeze(\"columns\")\n",
    "q3_train_label = pd.read_table(\"train_label.txt\", dtype=str).squeeze(\"columns\")\n",
    "\n",
    "# # Held testing data\n",
    "q3_test_text = pd.read_table(\"test_text.txt\", dtype=str).squeeze(\"columns\")\n",
    "q3_test_label = pd.read_table(\"test_label.txt\", dtype=str).squeeze(\"columns\")\n",
    "\n",
    "print(\"Training messages:\", q3_train_text[:10].values, \"\\n\")\n",
    "print(\"Training message labels/classes:\", q3_train_label[:10].values)"
   ]
  },
  {
   "cell_type": "markdown",
   "metadata": {},
   "source": [
    "Now, create and fit a Naive Bayes model that predicts the sentiment label of a message given the raw text of the message. To do so, you will need to vectorize the messages using the `CountVectorizer` and then create a `MultinomialNB` model. Both are imported for you below; you can use default values for both. You are welcome but not required to combine the steps and use a pipeline object. Fit your model on the **training data** and then make predictions of the sentiment labels for `q3_test_text`. Compute and report the `accuracy_score` of your predictions against the true `q3_test_label`, put it in `q3_score` as `float`/`numpy.float64`. \n",
    "\n",
    "To contextualize your model, make a baseline model that always predicts the most frequent class **in the training data**. You can implement this either by yourself or using [`DummyClassifier`](https://scikit-learn.org/stable/modules/generated/sklearn.dummy.DummyClassifier.html). Compute and report the `accuracy_score` of the baseline in `q3b_score`. \n",
    "\n",
    "In the written part below, compare the performances of the two models, state whether or not the results are reasonable, and why. Specifically, elaborate why the accuracy score of the baseline model is a lot higher than 1/4. (Hint: you may find [`value_counts`](https://pandas.pydata.org/docs/reference/api/pandas.Series.value_counts.html) helpful.)"
   ]
  },
  {
   "cell_type": "code",
   "execution_count": 7,
   "metadata": {
    "tags": []
   },
   "outputs": [
    {
     "name": "stdout",
     "output_type": "stream",
     "text": [
      "Model test classification accuracy: 0.6333707444818556\n",
      "Baseline test classification accuracy: 0.5447063224841002\n",
      "neu    1456\n",
      "neg     682\n",
      "pos     478\n",
      "q        57\n",
      "Name: neg, dtype: int64\n"
     ]
    }
   ],
   "source": [
    "from sklearn.feature_extraction.text import CountVectorizer\n",
    "from sklearn.naive_bayes import MultinomialNB\n",
    "from sklearn.pipeline import make_pipeline\n",
    "from sklearn.dummy import DummyClassifier\n",
    "\n",
    "# Write your code for question 3 here\n",
    "\n",
    "vectorize = CountVectorizer()\n",
    "train_x = vectorize.fit_transform(q3_train_text)\n",
    "test_x = vectorize.transform(q3_test_text)\n",
    "multi_naivebayes = MultinomialNB()\n",
    "multi_naivebayes.fit(train_x, q3_train_label)\n",
    "predict = multi_naivebayes.predict(test_x)\n",
    "baseline = DummyClassifier(strategy = 'most_frequent')\n",
    "baseline.fit(train_x, q3_train_label)\n",
    "base_predict = baseline.predict (test_x)\n",
    "q3_score = accuracy_score(q3_test_label, predict) # float: test classification accuracy score of the model\n",
    "q3b_score = accuracy_score(q3_test_label, base_predict) # float: test classification accuracy score of the\n",
    "\n",
    "\n",
    "\n",
    "# Leave these lines here to print the result\n",
    "print(\"Model test classification accuracy:\", q3_score)\n",
    "print(\"Baseline test classification accuracy:\", q3b_score)\n",
    "print(q3_test_label.value_counts())"
   ]
  },
  {
   "cell_type": "markdown",
   "metadata": {},
   "source": [
    "<!-- BEGIN QUESTION -->\n",
    "\n",
    "### Answer 3"
   ]
  },
  {
   "cell_type": "markdown",
   "metadata": {},
   "source": [
    "This data is reasonable because using value_counts results in the most common being neutral, and since it forms such a large part of total labels, predicting neutral each time results in an accuracy greater than 1/4."
   ]
  },
  {
   "cell_type": "markdown",
   "metadata": {},
   "source": [
    "<!-- END QUESTION -->\n",
    "\n",
    "### Question 4 (6 points, 4 autograded)\n",
    "In addition to natural language processing, machine learning techniques for preditive modeling can be very effective for analyzing raw image data. In this question, we consider the task of modeling images of handwritten digits. We pose this as a classification task: We want to predict the digit (0, 1, 2, ..., 9) as a function of an 8 by 8 pixel grayscale image of a digit.\n",
    "\n",
    "To begin, we import and preview the data below. `data` has 64 features, each of which is an integer between 0 and 15 corresponding to a particular pixel intensity value for one of the 64 pixels in the 8 by 8 image. `target` contains the actual digits corresponding to each particular image."
   ]
  },
  {
   "cell_type": "code",
   "execution_count": 8,
   "metadata": {},
   "outputs": [
    {
     "name": "stdout",
     "output_type": "stream",
     "text": [
      "The first image corresponds to digit:  0 \n",
      "\n",
      "First image with pixels flattened out: \n",
      " [ 0.  0.  5. 13.  9.  1.  0.  0.  0.  0. 13. 15. 10. 15.  5.  0.  0.  3.\n",
      " 15.  2.  0. 11.  8.  0.  0.  4. 12.  0.  0.  8.  8.  0.  0.  5.  8.  0.\n",
      "  0.  9.  8.  0.  0.  4. 11.  0.  1. 12.  7.  0.  0.  2. 14.  5. 10. 12.\n",
      "  0.  0.  0.  0.  6. 13. 10.  0.  0.  0.] \n",
      "\n",
      "First image rearranged to be 8 x 8: \n",
      " [[ 0.  0.  5. 13.  9.  1.  0.  0.]\n",
      " [ 0.  0. 13. 15. 10. 15.  5.  0.]\n",
      " [ 0.  3. 15.  2.  0. 11.  8.  0.]\n",
      " [ 0.  4. 12.  0.  0.  8.  8.  0.]\n",
      " [ 0.  5.  8.  0.  0.  9.  8.  0.]\n",
      " [ 0.  4. 11.  0.  1. 12.  7.  0.]\n",
      " [ 0.  2. 14.  5. 10. 12.  0.  0.]\n",
      " [ 0.  0.  6. 13. 10.  0.  0.  0.]] \n",
      "\n",
      "Visualizing first several images:\n"
     ]
    },
    {
     "data": {
      "image/png": "[encoded data removed]",
      "text/plain": [
       "<Figure size 720x216 with 30 Axes>"
      ]
     },
     "metadata": {},
     "output_type": "display_data"
    }
   ],
   "source": [
    "# Run but do not modify this code\n",
    "\n",
    "import matplotlib.pyplot as plt\n",
    "\n",
    "# Importing data\n",
    "from sklearn.datasets import load_digits\n",
    "digits = load_digits()\n",
    "q4_data = digits[\"data\"]\n",
    "q4_target = digits[\"target\"]\n",
    "\n",
    "# Previewing data\n",
    "print(\"The first image corresponds to digit: \", q4_target[0], \"\\n\")\n",
    "print(\"First image with pixels flattened out: \\n\", q4_data[0], \"\\n\")\n",
    "print(\"First image rearranged to be 8 x 8: \\n\", q4_data[0].reshape((8,8)), \"\\n\")\n",
    "print(\"Visualizing first several images:\")\n",
    "\n",
    "# Visualizing digits\n",
    "fig, axes = plt.subplots(3, 10, figsize=(10, 3),\n",
    "                         subplot_kw={'xticks':[], 'yticks':[]},\n",
    "                         gridspec_kw=dict(hspace=0.1, wspace=0.1))\n",
    "for i, ax in enumerate(axes.flat):\n",
    "    ax.imshow(digits.images[i], cmap='binary')"
   ]
  },
  {
   "cell_type": "markdown",
   "metadata": {},
   "source": [
    "We first split the data into training and test sets as usual."
   ]
  },
  {
   "cell_type": "code",
   "execution_count": 9,
   "metadata": {},
   "outputs": [],
   "source": [
    "# Run but do not modify this code\n",
    "\n",
    "q4_train_data, q4_test_data, q4_train_target, q4_test_target = train_test_split(\n",
    "    q4_data, q4_target, test_size=0.3, random_state=2)"
   ]
  },
  {
   "cell_type": "markdown",
   "metadata": {},
   "source": [
    "Now, use a k-nearest neighbors classifier for your model that predicts the underlying digit given an image. We import the relevant `KNeighborsClassifier` for you below. Recall that an important hyperparameter of a k-nearest neighbor model is k, or the `n_neighbors` parameter to the `KNeighborsClassifier()` constructor. \n",
    "\n",
    "Use 5-fold cross validation to search for the best value of `n_neighbors` in validation on the training set from among possible values between 2 and 20. You can either do so using `cross_validate` to check each possible setting directly, or you can use a `GridSearchCV` to perform the search automatically during fitting. If you search manually, take the average of the five scores for 5-fold cross validation, for each value. If you use `GridSearchCV`, note that the `GridSearchCV` object can itself fit and predict, and that you can get the optimal setting after fitting with `.best_params_`. Report the optimal value of `n_neighbors` in `q4_n` as `int`/`numpy.int64`.\n",
    "\n",
    "When you have fit your model with the optimal `n_neighbors` value on the training data, make predictions for the test data. Compute and report the `accuracy_score` of your model in testing and report it in `q4_score` as `float`/`numpy.float64`.\n",
    "\n",
    "Next, fit a Naive Bayes model (using `MultinomialNB` and the default setting) on the training data and predict the class of the test data.  Compute its `accuracy_score` and put it in `q4b_score`. In the written part, compare the two `accuracy_score`, discuss whether or not they are reasonable, and why."
   ]
  },
  {
   "cell_type": "code",
   "execution_count": 10,
   "metadata": {
    "tags": []
   },
   "outputs": [
    {
     "name": "stdout",
     "output_type": "stream",
     "text": [
      "Optimal n_neighors: 5\n",
      "Accuracy on testing data: 0.9740740740740741\n",
      "Accuracy of baseline: 0.8796296296296297\n"
     ]
    }
   ],
   "source": [
    "from sklearn.model_selection import cross_validate\n",
    "from sklearn.model_selection import GridSearchCV\n",
    "from sklearn.neighbors import KNeighborsClassifier\n",
    "\n",
    "# Write your code for question 4 here\n",
    "\n",
    "validator = {'n_neighbors': [i for i in range (2,20)]}\n",
    "auto_search = GridSearchCV(KNeighborsClassifier(), validator)\n",
    "auto_search.fit(q4_train_data, q4_train_target)\n",
    "q4_n = auto_search.best_params_.get('n_neighbors')\n",
    "\n",
    "# int: n neighbors\n",
    "model = KNeighborsClassifier(n_neighbors = q4_n)\n",
    "model.fit (q4_train_data, q4_train_target)\n",
    "predict = model.predict(q4_test_data)\n",
    "\n",
    "\n",
    "baseline = MultinomialNB()\n",
    "baseline.fit(q4_train_data, q4_train_target)\n",
    "baseline_predict = baseline.predict(q4_test_data)\n",
    "\n",
    "q4_score = accuracy_score(q4_test_target, predict)\n",
    "q4b_score = accuracy_score(q4_test_target, baseline_predict)\n",
    "\n",
    "# Leave these lines here to print the result\n",
    "print(\"Optimal n_neighors:\", q4_n)\n",
    "print(\"Accuracy on testing data:\", q4_score)\n",
    "print(\"Accuracy of baseline:\", q4b_score)"
   ]
  },
  {
   "cell_type": "markdown",
   "metadata": {},
   "source": [
    "<!-- BEGIN QUESTION -->\n",
    "\n",
    "### Answer 4"
   ]
  },
  {
   "cell_type": "markdown",
   "metadata": {},
   "source": [
    "KNeighbors is more accurate than naivebays."
   ]
  },
  {
   "cell_type": "markdown",
   "metadata": {},
   "source": [
    "<!-- END QUESTION -->\n",
    "\n",
    "<!-- END QUESTION -->\n",
    "\n",
    "## Submitting\n",
    "\n",
    "You should make sure any code that you write to answer the questions is included in this notebook. We recommend you go to the Kernel option and choose \\\"Restart & Run All.\\\" Double check that your entire notebook runs correctly and generates the expected output. Finally, make sure to save your work (timestamp at the top tells you the last checkpoint and whether there are unsaved changes). When you finish, submit your assignment at [Gradescope](http://gradescope.com/)."
   ]
  }
 ],
 "metadata": {
  "kernelspec": {
   "display_name": "Python 3 (ipykernel)",
   "language": "python",
   "name": "python3"
  },
  "language_info": {
   "codemirror_mode": {
    "name": "ipython",
    "version": 3
   },
   "file_extension": ".py",
   "mimetype": "text/x-python",
   "name": "python",
   "nbconvert_exporter": "python",
   "pygments_lexer": "ipython3",
   "version": "3.9.12"
  },
  "otter": {
   "OK_FORMAT": true,
   "tests": {
    "q1-code": {
     "name": "q1-code",
     "points": [
      0.25,
      0.25,
      0.25,
      0.25,
      0.25,
      0.25,
      0.25,
      0.25,
      0.5,
      0.5,
      0.5,
      0.5
     ],
     "suites": [
      {
       "cases": [
        {
         "code": ">>> isinstance(q1_mse, float) or isinstance(q1_mse, np.float64)\nTrue",
         "hidden": false,
         "locked": false
        },
        {
         "code": ">>> q1_mse > 0\nTrue",
         "hidden": false,
         "locked": false
        },
        {
         "code": ">>> isinstance(q1_r2, float) or isinstance(q1_r2, np.float64)\nTrue",
         "hidden": false,
         "locked": false
        },
        {
         "code": ">>> q1_r2 <= 1\nTrue",
         "hidden": false,
         "locked": false
        },
        {
         "code": ">>> isinstance(q1b_mse, float) or isinstance(q1b_mse, np.float64)\nTrue",
         "hidden": false,
         "locked": false
        },
        {
         "code": ">>> q1b_mse > 0\nTrue",
         "hidden": false,
         "locked": false
        },
        {
         "code": ">>> isinstance(q1b_r2, float) or isinstance(q1b_r2, np.float64)\nTrue",
         "hidden": false,
         "locked": false
        },
        {
         "code": ">>> q1b_r2 <= 1\nTrue",
         "hidden": false,
         "locked": false
        },
        {
         "code": ">>> from auto_checks import check_q1_mse\n>>> check_q1_mse(q1_mse)\n'PASS'",
         "hidden": false,
         "locked": false
        },
        {
         "code": ">>> from auto_checks import check_q1_r2\n>>> check_q1_r2(q1_r2)\n'PASS'",
         "hidden": false,
         "locked": false
        },
        {
         "code": ">>> from auto_checks import check_q1b_mse\n>>> check_q1b_mse(q1b_mse)\n'PASS'",
         "hidden": false,
         "locked": false
        },
        {
         "code": ">>> from auto_checks import check_q1b_r2\n>>> check_q1b_r2(q1b_r2)\n'PASS'",
         "hidden": false,
         "locked": false
        }
       ],
       "scored": true,
       "setup": "",
       "teardown": "",
       "type": "doctest"
      }
     ]
    },
    "q2-code": {
     "name": "q2-code",
     "points": [
      0.25,
      0.25,
      0.25,
      0.25,
      0.5,
      0.5,
      0.5,
      0.5,
      1
     ],
     "suites": [
      {
       "cases": [
        {
         "code": ">>> isinstance(q2_score, float) or isinstance(q2_score, np.float64)\nTrue",
         "hidden": false,
         "locked": false
        },
        {
         "code": ">>> 0 <= q2_score <= 1\nTrue",
         "hidden": false,
         "locked": false
        },
        {
         "code": ">>> isinstance(q2_species, str) or isinstance(q2_species, basestring)\nTrue",
         "hidden": false,
         "locked": false
        },
        {
         "code": ">>> q2_species in ['Adelie', 'Chinstrap', 'Gentoo']\nTrue",
         "hidden": false,
         "locked": false
        },
        {
         "code": ">>> isinstance(q2b_score, float) or isinstance(q2b_score, np.float64)\nTrue",
         "hidden": false,
         "locked": false
        },
        {
         "code": ">>> 0 <= q2b_score <= 1\nTrue",
         "hidden": false,
         "locked": false
        },
        {
         "code": ">>> from auto_checks import check_q2_score\n>>> check_q2_score(q2_score)\n'PASS'",
         "hidden": false,
         "locked": false
        },
        {
         "code": ">>> from auto_checks import check_q2_species\n>>> check_q2_species(q2_species)\n'PASS'",
         "hidden": false,
         "locked": false
        },
        {
         "code": ">>> from auto_checks import check_q2b_score\n>>> check_q2b_score(q2b_score)\n'PASS'",
         "hidden": false,
         "locked": false
        }
       ],
       "scored": true,
       "setup": "",
       "teardown": "",
       "type": "doctest"
      }
     ]
    },
    "q3-code": {
     "name": "q3-code",
     "points": [
      0.5,
      0.5,
      0.5,
      0.5,
      1,
      1
     ],
     "suites": [
      {
       "cases": [
        {
         "code": ">>> isinstance(q3_score, float) or isinstance(q3_score, np.float64)\nTrue",
         "hidden": false,
         "locked": false
        },
        {
         "code": ">>> 0 <= q3_score <= 1\nTrue",
         "hidden": false,
         "locked": false
        },
        {
         "code": ">>> isinstance(q3b_score, float) or isinstance(q3b_score, np.float64)\nTrue",
         "hidden": false,
         "locked": false
        },
        {
         "code": ">>> 0 <= q3b_score <= 1\nTrue",
         "hidden": false,
         "locked": false
        },
        {
         "code": ">>> from auto_checks import check_q3_score\n>>> check_q3_score(q3_score)\n'PASS'",
         "hidden": false,
         "locked": false
        },
        {
         "code": ">>> from auto_checks import check_q3b_score\n>>> check_q3b_score(q3b_score)\n'PASS'",
         "hidden": false,
         "locked": false
        }
       ],
       "scored": true,
       "setup": "",
       "teardown": "",
       "type": "doctest"
      }
     ]
    },
    "q4-code": {
     "name": "q4-code",
     "points": [
      0.25,
      0.25,
      0.25,
      0.25,
      0.5,
      0.5,
      0.5,
      0.5,
      1
     ],
     "suites": [
      {
       "cases": [
        {
         "code": ">>> isinstance(q4_n, int) or isinstance(q4_n, np.int64)\nTrue",
         "hidden": false,
         "locked": false
        },
        {
         "code": ">>> 2 <= q4_n <= 20\nTrue",
         "hidden": false,
         "locked": false
        },
        {
         "code": ">>> isinstance(q4_score, float) or isinstance(q4_score, np.float64)\nTrue",
         "hidden": false,
         "locked": false
        },
        {
         "code": ">>> 0 <= q4_score <= 1\nTrue",
         "hidden": false,
         "locked": false
        },
        {
         "code": ">>> isinstance(q4b_score, float) or isinstance(q4b_score, np.float64)\nTrue",
         "hidden": false,
         "locked": false
        },
        {
         "code": ">>> 0 <= q4b_score <= 1\nTrue",
         "hidden": false,
         "locked": false
        },
        {
         "code": ">>> from auto_checks import check_q4_n\n>>> check_q4_n(q4_n)\n'PASS'",
         "hidden": false,
         "locked": false
        },
        {
         "code": ">>> from auto_checks import check_q4_score\n>>> check_q4_score(q4_score)\n'PASS'",
         "hidden": false,
         "locked": false
        },
        {
         "code": ">>> from auto_checks import check_q4b_score\n>>> check_q4b_score(q4b_score)\n'PASS'",
         "hidden": false,
         "locked": false
        }
       ],
       "scored": true,
       "setup": "",
       "teardown": "",
       "type": "doctest"
      }
     ]
    }
   }
  }
 },
 "nbformat": 4,
 "nbformat_minor": 4
}

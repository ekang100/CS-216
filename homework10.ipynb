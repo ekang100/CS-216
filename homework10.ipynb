{
 "cells": [
  {
   "cell_type": "markdown",
   "metadata": {
    "id": "IRsSn7f4BTRg"
   },
   "source": [
    "# Homework 10\n",
    "\n",
    "In this exercise, you will practice using deep learning with artificial neural networks and the Pytorch library to build classification models. Note that Pytorch is **not** included in the Anaconda distribution by default. You have three options for using Pytorch to complete this assignment:\n",
    "\n",
    "1. Install Pytorch locally (for free). You can see the directions on the [Pytorch website here](https://pytorch.org/get-started/locally/). Select the stable build, your operating system, Conda (for Anaconda), Python, and CPU to see install directions for your particular setup. (CUDA is used to support hardware acceleration with NVIDIA graphics cards and is not necessary for this course).\n",
    "\n",
    "1. Use a [Duke OIT container](https://cmgr.oit.duke.edu/containers). Make sure to use the **PyTorch** one. If you have not already reserved your container, see the class website's [Resources & Getting Help](https://sites.duke.edu/compsci216fa2022/resources-getting-help/) page.\n",
    "\n",
    "1. Use Pytorch in a Jupyter notebook in the cloud (also for free). The easiest way to do this is with a Google colab notebook; Pytorch will already be available to you in this cloud environment. If you choose this option, go to the [Google colab website](https://colab.research.google.com) select \"Upload\" at the right side of the orange menu bar, and select this `.ipynb` file. You can then complete the assignment in colab and download the completed `.ipynb` file to turn in on Gradescope.\n",
    "\n",
    "This assignment is tutorial style; in general we will provide the necessary code and simply ask you to run the code, observe what happens, and answer questions based on the code. Some of the questions you will answer as a Sakai Quiz (with unlimited attempts), the rest you will answer in this notebook. The code in this assignment is based on the image classification example presented in the [Deep Learning with Pytorch: A 60 Minute Blitz](https://pytorch.org/tutorials/beginner/deep_learning_60min_blitz.html) tutorial and the [Pytorch Basics Tutorial](https://pytorch.org/tutorials/beginner/basics/intro.html#). You are welcome and encouraged to visit these and other Pytorch [tutorials](https://pytorch.org/tutorials/), [documentation](https://pytorch.org/docs/stable/index.html), and [recipes/examples](https://pytorch.org/tutorials/recipes/recipes_index.html) as needed or for your own interest and learning.\n",
    "\n",
    "When you finish please confirm that your notebook and its output looks correct before submitting your .ipynb file (the notebook file) on gradescope. If you select Kernel -> Restart and Run All, please allow time for the code to finish executing; the code in this notebook may take a few minutes to run."
   ]
  },
  {
   "cell_type": "code",
   "execution_count": 2,
   "metadata": {},
   "outputs": [
    {
     "name": "stdout",
     "output_type": "stream",
     "text": [
      "Collecting package metadata (current_repodata.json): ...working... done\n",
      "Solving environment: ...working... done\n",
      "\n",
      "## Package Plan ##\n",
      "\n",
      "  environment location: C:\\Users\\ekang\\anaconda3\n",
      "\n",
      "  added / updated specs:\n",
      "    - cpuonly\n",
      "    - pytorch\n",
      "    - torchaudio\n",
      "    - torchvision\n",
      "\n",
      "\n",
      "The following packages will be downloaded:\n",
      "\n",
      "    package                    |            build\n",
      "    ---------------------------|-----------------\n",
      "    conda-22.11.0              |   py39haa95532_0         929 KB\n",
      "    cpuonly-2.0                |                0           2 KB  pytorch\n",
      "    libuv-1.40.0               |       he774522_0         255 KB\n",
      "    pytorch-1.13.0             |      py3.9_cpu_0       138.2 MB  pytorch\n",
      "    pytorch-mutex-1.0          |              cpu           3 KB  pytorch\n",
      "    ruamel.yaml-0.16.12        |   py39h2bbff1b_3         173 KB\n",
      "    ruamel.yaml.clib-0.2.6     |   py39h2bbff1b_1         101 KB\n",
      "    torchaudio-0.13.0          |         py39_cpu         4.5 MB  pytorch\n",
      "    torchvision-0.14.0         |         py39_cpu         6.3 MB  pytorch\n",
      "    ------------------------------------------------------------\n",
      "                                           Total:       150.4 MB\n",
      "\n",
      "The following NEW packages will be INSTALLED:\n",
      "\n",
      "  cpuonly            pytorch/noarch::cpuonly-2.0-0\n",
      "  libuv              pkgs/main/win-64::libuv-1.40.0-he774522_0\n",
      "  pytorch            pytorch/win-64::pytorch-1.13.0-py3.9_cpu_0\n",
      "  pytorch-mutex      pytorch/noarch::pytorch-mutex-1.0-cpu\n",
      "  ruamel.yaml        pkgs/main/win-64::ruamel.yaml-0.16.12-py39h2bbff1b_3\n",
      "  ruamel.yaml.clib   pkgs/main/win-64::ruamel.yaml.clib-0.2.6-py39h2bbff1b_1\n",
      "  torchaudio         pytorch/win-64::torchaudio-0.13.0-py39_cpu\n",
      "  torchvision        pytorch/win-64::torchvision-0.14.0-py39_cpu\n",
      "\n",
      "The following packages will be UPDATED:\n",
      "\n",
      "  conda                               4.14.0-py39haa95532_0 --> 22.11.0-py39haa95532_0\n",
      "\n",
      "\n",
      "\n",
      "Downloading and Extracting Packages\n",
      "\n",
      "torchaudio-0.13.0    | 4.5 MB    |            |   0% \n",
      "torchaudio-0.13.0    | 4.5 MB    |            |   0% \n",
      "torchaudio-0.13.0    | 4.5 MB    | 5          |   6% \n",
      "torchaudio-0.13.0    | 4.5 MB    | 8          |   9% \n",
      "torchaudio-0.13.0    | 4.5 MB    | #          |  10% \n",
      "torchaudio-0.13.0    | 4.5 MB    | #5         |  15% \n",
      "torchaudio-0.13.0    | 4.5 MB    | #7         |  17% \n",
      "torchaudio-0.13.0    | 4.5 MB    | ##3        |  23% \n",
      "torchaudio-0.13.0    | 4.5 MB    | ##7        |  28% \n",
      "torchaudio-0.13.0    | 4.5 MB    | ###1       |  32% \n",
      "torchaudio-0.13.0    | 4.5 MB    | ###5       |  36% \n",
      "torchaudio-0.13.0    | 4.5 MB    | ####       |  40% \n",
      "torchaudio-0.13.0    | 4.5 MB    | ####9      |  50% \n",
      "torchaudio-0.13.0    | 4.5 MB    | ######     |  60% \n",
      "torchaudio-0.13.0    | 4.5 MB    | ######6    |  66% \n",
      "torchaudio-0.13.0    | 4.5 MB    | #######3   |  74% \n",
      "torchaudio-0.13.0    | 4.5 MB    | ########5  |  86% \n",
      "torchaudio-0.13.0    | 4.5 MB    | #########3 |  93% \n",
      "torchaudio-0.13.0    | 4.5 MB    | ########## | 100% \n",
      "\n",
      "torchvision-0.14.0   | 6.3 MB    |            |   0% \n",
      "torchvision-0.14.0   | 6.3 MB    |            |   1% \n",
      "torchvision-0.14.0   | 6.3 MB    | 6          |   7% \n",
      "torchvision-0.14.0   | 6.3 MB    | #6         |  17% \n",
      "torchvision-0.14.0   | 6.3 MB    | ##6        |  26% \n",
      "torchvision-0.14.0   | 6.3 MB    | ###2       |  33% \n",
      "torchvision-0.14.0   | 6.3 MB    | ####1      |  41% \n",
      "torchvision-0.14.0   | 6.3 MB    | #####1     |  52% \n",
      "torchvision-0.14.0   | 6.3 MB    | #####9     |  59% \n",
      "torchvision-0.14.0   | 6.3 MB    | ######5    |  65% \n",
      "torchvision-0.14.0   | 6.3 MB    | #######1   |  71% \n",
      "torchvision-0.14.0   | 6.3 MB    | #######8   |  78% \n",
      "torchvision-0.14.0   | 6.3 MB    | ########3  |  84% \n",
      "torchvision-0.14.0   | 6.3 MB    | #########2 |  92% \n",
      "torchvision-0.14.0   | 6.3 MB    | ########## | 100% \n",
      "torchvision-0.14.0   | 6.3 MB    | ########## | 100% \n",
      "\n",
      "ruamel.yaml.clib-0.2 | 101 KB    |            |   0% \n",
      "ruamel.yaml.clib-0.2 | 101 KB    | #5         |  16% \n",
      "ruamel.yaml.clib-0.2 | 101 KB    | ########## | 100% \n",
      "ruamel.yaml.clib-0.2 | 101 KB    | ########## | 100% \n",
      "\n",
      "libuv-1.40.0         | 255 KB    |            |   0% \n",
      "libuv-1.40.0         | 255 KB    | ########## | 100% \n",
      "libuv-1.40.0         | 255 KB    | ########## | 100% \n",
      "\n",
      "ruamel.yaml-0.16.12  | 173 KB    |            |   0% \n",
      "ruamel.yaml-0.16.12  | 173 KB    | ########## | 100% \n",
      "ruamel.yaml-0.16.12  | 173 KB    | ########## | 100% \n",
      "\n",
      "conda-22.11.0        | 929 KB    |            |   0% \n",
      "conda-22.11.0        | 929 KB    | #########3 |  93% \n",
      "conda-22.11.0        | 929 KB    | ########## | 100% \n",
      "\n",
      "pytorch-1.13.0       | 138.2 MB  |            |   0% \n",
      "pytorch-1.13.0       | 138.2 MB  |            |   0% \n",
      "pytorch-1.13.0       | 138.2 MB  |            |   0% \n",
      "pytorch-1.13.0       | 138.2 MB  | 1          |   1% \n",
      "pytorch-1.13.0       | 138.2 MB  | 1          |   2% \n",
      "pytorch-1.13.0       | 138.2 MB  | 2          |   2% \n",
      "pytorch-1.13.0       | 138.2 MB  | 3          |   3% \n",
      "pytorch-1.13.0       | 138.2 MB  | 4          |   4% \n",
      "pytorch-1.13.0       | 138.2 MB  | 5          |   5% \n",
      "pytorch-1.13.0       | 138.2 MB  | 5          |   6% \n",
      "pytorch-1.13.0       | 138.2 MB  | 6          |   7% \n",
      "pytorch-1.13.0       | 138.2 MB  | 8          |   8% \n",
      "pytorch-1.13.0       | 138.2 MB  | 9          |   9% \n",
      "pytorch-1.13.0       | 138.2 MB  | #          |  10% \n",
      "pytorch-1.13.0       | 138.2 MB  | #1         |  12% \n",
      "pytorch-1.13.0       | 138.2 MB  | #3         |  13% \n",
      "pytorch-1.13.0       | 138.2 MB  | #4         |  14% \n",
      "pytorch-1.13.0       | 138.2 MB  | #5         |  16% \n",
      "pytorch-1.13.0       | 138.2 MB  | #6         |  17% \n",
      "pytorch-1.13.0       | 138.2 MB  | #8         |  18% \n",
      "pytorch-1.13.0       | 138.2 MB  | #9         |  19% \n",
      "pytorch-1.13.0       | 138.2 MB  | ##         |  21% \n",
      "pytorch-1.13.0       | 138.2 MB  | ##1        |  22% \n",
      "pytorch-1.13.0       | 138.2 MB  | ##2        |  23% \n",
      "pytorch-1.13.0       | 138.2 MB  | ##4        |  24% \n",
      "pytorch-1.13.0       | 138.2 MB  | ##5        |  25% \n",
      "pytorch-1.13.0       | 138.2 MB  | ##6        |  27% \n",
      "pytorch-1.13.0       | 138.2 MB  | ##7        |  28% \n",
      "pytorch-1.13.0       | 138.2 MB  | ##9        |  29% \n",
      "pytorch-1.13.0       | 138.2 MB  | ###        |  30% \n",
      "pytorch-1.13.0       | 138.2 MB  | ###1       |  31% \n",
      "pytorch-1.13.0       | 138.2 MB  | ###2       |  32% \n",
      "pytorch-1.13.0       | 138.2 MB  | ###3       |  33% \n",
      "pytorch-1.13.0       | 138.2 MB  | ###4       |  34% \n",
      "pytorch-1.13.0       | 138.2 MB  | ###5       |  35% \n",
      "pytorch-1.13.0       | 138.2 MB  | ###6       |  36% \n",
      "pytorch-1.13.0       | 138.2 MB  | ###7       |  37% \n",
      "pytorch-1.13.0       | 138.2 MB  | ###8       |  39% \n",
      "pytorch-1.13.0       | 138.2 MB  | ###9       |  40% \n",
      "pytorch-1.13.0       | 138.2 MB  | ####       |  41% \n",
      "pytorch-1.13.0       | 138.2 MB  | ####1      |  42% \n",
      "pytorch-1.13.0       | 138.2 MB  | ####3      |  43% \n",
      "pytorch-1.13.0       | 138.2 MB  | ####4      |  44% \n",
      "pytorch-1.13.0       | 138.2 MB  | ####5      |  46% \n",
      "pytorch-1.13.0       | 138.2 MB  | ####6      |  47% \n",
      "pytorch-1.13.0       | 138.2 MB  | ####8      |  48% \n",
      "pytorch-1.13.0       | 138.2 MB  | ####9      |  50% \n",
      "pytorch-1.13.0       | 138.2 MB  | #####      |  51% \n",
      "pytorch-1.13.0       | 138.2 MB  | #####2     |  52% \n",
      "pytorch-1.13.0       | 138.2 MB  | #####3     |  53% \n",
      "pytorch-1.13.0       | 138.2 MB  | #####4     |  54% \n",
      "pytorch-1.13.0       | 138.2 MB  | #####5     |  55% \n",
      "pytorch-1.13.0       | 138.2 MB  | #####6     |  56% \n",
      "pytorch-1.13.0       | 138.2 MB  | #####7     |  57% \n",
      "pytorch-1.13.0       | 138.2 MB  | #####8     |  58% \n",
      "pytorch-1.13.0       | 138.2 MB  | #####9     |  59% \n",
      "pytorch-1.13.0       | 138.2 MB  | ######     |  60% \n",
      "pytorch-1.13.0       | 138.2 MB  | ######1    |  61% \n",
      "pytorch-1.13.0       | 138.2 MB  | ######2    |  63% \n",
      "pytorch-1.13.0       | 138.2 MB  | ######3    |  64% \n",
      "pytorch-1.13.0       | 138.2 MB  | ######4    |  65% \n",
      "pytorch-1.13.0       | 138.2 MB  | ######5    |  66% \n",
      "pytorch-1.13.0       | 138.2 MB  | ######6    |  67% \n",
      "pytorch-1.13.0       | 138.2 MB  | ######8    |  68% \n",
      "pytorch-1.13.0       | 138.2 MB  | ######9    |  69% \n",
      "pytorch-1.13.0       | 138.2 MB  | #######    |  70% \n",
      "pytorch-1.13.0       | 138.2 MB  | #######1   |  72% \n",
      "pytorch-1.13.0       | 138.2 MB  | #######3   |  73% \n",
      "pytorch-1.13.0       | 138.2 MB  | #######4   |  75% \n",
      "pytorch-1.13.0       | 138.2 MB  | #######5   |  76% \n",
      "pytorch-1.13.0       | 138.2 MB  | #######7   |  77% \n",
      "pytorch-1.13.0       | 138.2 MB  | #######8   |  79% \n",
      "pytorch-1.13.0       | 138.2 MB  | ########   |  80% \n",
      "pytorch-1.13.0       | 138.2 MB  | ########1  |  81% \n",
      "pytorch-1.13.0       | 138.2 MB  | ########2  |  82% \n",
      "pytorch-1.13.0       | 138.2 MB  | ########3  |  83% \n",
      "pytorch-1.13.0       | 138.2 MB  | ########4  |  84% \n",
      "pytorch-1.13.0       | 138.2 MB  | ########5  |  85% \n",
      "pytorch-1.13.0       | 138.2 MB  | ########6  |  86% \n",
      "pytorch-1.13.0       | 138.2 MB  | ########7  |  87% \n",
      "pytorch-1.13.0       | 138.2 MB  | ########8  |  88% \n",
      "pytorch-1.13.0       | 138.2 MB  | ########9  |  90% \n",
      "pytorch-1.13.0       | 138.2 MB  | #########  |  91% \n",
      "pytorch-1.13.0       | 138.2 MB  | #########2 |  92% \n",
      "pytorch-1.13.0       | 138.2 MB  | #########3 |  93% \n",
      "pytorch-1.13.0       | 138.2 MB  | #########4 |  94% \n",
      "pytorch-1.13.0       | 138.2 MB  | #########5 |  96% \n",
      "pytorch-1.13.0       | 138.2 MB  | #########6 |  97% \n",
      "pytorch-1.13.0       | 138.2 MB  | #########8 |  98% \n",
      "pytorch-1.13.0       | 138.2 MB  | #########9 |  99% \n",
      "pytorch-1.13.0       | 138.2 MB  | ########## | 100% \n",
      "\n",
      "pytorch-mutex-1.0    | 3 KB      |            |   0% \n",
      "pytorch-mutex-1.0    | 3 KB      | ########## | 100% \n",
      "\n",
      "Note: you may need to restart the kernel to use updated packages.\n",
      "cpuonly-2.0          | 2 KB      |            |   0% \n",
      "cpuonly-2.0          | 2 KB      | ########## | 100% \n",
      "Preparing transaction: ...working... done\n",
      "Verifying transaction: ...working... done\n",
      "Executing transaction: ...working... done\n",
      "Retrieving notices: ...working... done\n",
      "\n"
     ]
    }
   ],
   "source": [
    "conda install pytorch torchvision torchaudio cpuonly -c pytorch"
   ]
  },
  {
   "cell_type": "markdown",
   "metadata": {
    "id": "mAAajdJaBTRs"
   },
   "source": [
    "### Question 1: The Data\n",
    "First, we import the necessary libraries and download the `CIFAR-10` dataset from Pytorch. The `CIFAR-10` dataset consists of 60,000 32 by 32 pixel color images in 10 classes, with 6,000 images per class. There are 50,000 training images and 10,000 test images. The classes of the images are things like `airplane`, `automobile`, `bird`, `cat`, `deer`, etc. You can read more about the dataset at the [curator's website](https://www.cs.toronto.edu/~kriz/cifar.html). \n",
    "\n",
    "Run the following code to import necessary libraries, download the data, and preview some of the images along with their classes. **Note that this step may take a few minutes depending on your internet speed**; the dataset is about 160 MB. Once you have downloaded the data once, rerunning the cell should be fast; it will verify that you already have the dataset rather than redownload every time."
   ]
  },
  {
   "cell_type": "code",
   "execution_count": 3,
   "metadata": {
    "id": "t1KoIi3IBTRw"
   },
   "outputs": [],
   "source": [
    "# Run but do not modify this code\n",
    "# Imports all of the necessary Pytorch libraries\n",
    "\n",
    "import torch\n",
    "import torchvision\n",
    "import torchvision.transforms as transforms\n",
    "import torch.nn as nn\n",
    "import torch.optim as optim"
   ]
  },
  {
   "cell_type": "code",
   "execution_count": 4,
   "metadata": {
    "colab": {
     "base_uri": "https://localhost:8080/",
     "height": 85,
     "referenced_widgets": [
      "2aaf32ce2de2425c9ad0c662592fd36c",
      "60dc78afcde44cf2b7f4134b0d264693",
      "fbaf8a68cbf741b3a184649962aef2c0",
      "533576a7f6074b2f8a098b69eaa03365",
      "8145b42aa9c647b9a9a3af614a027fc7",
      "75c5113decb34b4fbc0e4388138e7fd6",
      "0dcd387494334475bd6eed273d52fc73",
      "fdb3ae48121c4ec1b910d2c0033d197e",
      "8cccac49e7714195810e5bb18ba297d1",
      "19e42179a82d4250b302238f0b28bbe7",
      "acc13af80b874972bd10f4055e6823fc"
     ]
    },
    "id": "s-_Ku1iHBTR5",
    "outputId": "0aedeb3c-2109-4e2b-f6fe-aa67508b9f3d"
   },
   "outputs": [
    {
     "name": "stdout",
     "output_type": "stream",
     "text": [
      "Downloading https://www.cs.toronto.edu/~kriz/cifar-10-python.tar.gz to ./data\\cifar-10-python.tar.gz\n"
     ]
    },
    {
     "data": {
      "application/vnd.jupyter.widget-view+json": {
       "model_id": "34f7729a741144c588963ed26f1b64e4",
       "version_major": 2,
       "version_minor": 0
      },
      "text/plain": [
       "  0%|          | 0/170498071 [00:00<?, ?it/s]"
      ]
     },
     "metadata": {},
     "output_type": "display_data"
    },
    {
     "name": "stdout",
     "output_type": "stream",
     "text": [
      "Extracting ./data\\cifar-10-python.tar.gz to ./data\n",
      "Files already downloaded and verified\n"
     ]
    }
   ],
   "source": [
    "# Run but do not modify this code\n",
    "# Downloads, imports, and formats the CIFAR-10 image dataset. \n",
    "# May take a few minutes the first time you run it\n",
    "\n",
    "transform = transforms.Compose(\n",
    "    [transforms.ToTensor(),\n",
    "     transforms.Normalize((0.5, 0.5, 0.5), (0.5, 0.5, 0.5))])\n",
    "\n",
    "trainset = torchvision.datasets.CIFAR10(root='./data', train=True,\n",
    "                                        download=True, transform=transform)\n",
    "train_dataloader = torch.utils.data.DataLoader(trainset, batch_size=4,\n",
    "                                          shuffle=True, num_workers=2)\n",
    "\n",
    "testset = torchvision.datasets.CIFAR10(root='./data', train=False,\n",
    "                                       download=True, transform=transform)\n",
    "test_dataloader = torch.utils.data.DataLoader(testset, batch_size=4,\n",
    "                                         shuffle=False, num_workers=2)\n",
    "\n",
    "classes = ('plane', 'car', 'bird', 'cat',\n",
    "           'deer', 'dog', 'frog', 'horse', 'ship', 'truck')"
   ]
  },
  {
   "cell_type": "code",
   "execution_count": 5,
   "metadata": {
    "colab": {
     "base_uri": "https://localhost:8080/",
     "height": 155
    },
    "id": "fVK2nCq4BTR9",
    "outputId": "eb00d694-3ce6-4eee-a342-882735c2a38f"
   },
   "outputs": [
    {
     "data": {
      "image/png": "[encoded data removed]",
      "text/plain": [
       "<Figure size 432x288 with 1 Axes>"
      ]
     },
     "metadata": {
      "needs_background": "light"
     },
     "output_type": "display_data"
    },
    {
     "name": "stdout",
     "output_type": "stream",
     "text": [
      "  car   cat  deer truck\n"
     ]
    }
   ],
   "source": [
    "# Run but do not modify this code\n",
    "# Displays random images from the CIFAR-10 image dataset\n",
    "\n",
    "%matplotlib inline\n",
    "import matplotlib.pyplot as plt\n",
    "import numpy as np\n",
    "\n",
    "def imshow(img):\n",
    "    img = img / 2 + 0.5     # unnormalize\n",
    "    npimg = img.numpy()\n",
    "    plt.imshow(np.transpose(npimg, (1, 2, 0)))\n",
    "    plt.show()\n",
    "\n",
    "# get some random training images\n",
    "dataiter = iter(train_dataloader)\n",
    "images, labels = next(dataiter)\n",
    "\n",
    "# show images\n",
    "imshow(torchvision.utils.make_grid(images))\n",
    "# print labels\n",
    "print(' '.join('%5s' % classes[labels[j]] for j in range(4)))\n",
    "plt.show()"
   ]
  },
  {
   "cell_type": "markdown",
   "metadata": {
    "id": "aKOe7EaaBTR_"
   },
   "source": [
    "After running this code, `images` is a tensor containing the images displayed above. Run the code below to see the shape of the tensor, which is 4 by 3 by 32 by 32. Explain these values: What do these numbers represent in terms of the data?"
   ]
  },
  {
   "cell_type": "code",
   "execution_count": 6,
   "metadata": {
    "colab": {
     "base_uri": "https://localhost:8080/"
    },
    "id": "6eTgzrG-BTSA",
    "outputId": "12d21f01-020a-490b-a6ec-d9f0d4e969cf"
   },
   "outputs": [
    {
     "name": "stdout",
     "output_type": "stream",
     "text": [
      "torch.Size([4, 3, 32, 32])\n"
     ]
    }
   ],
   "source": [
    "# Run but do not modify this code\n",
    "print(images.shape)"
   ]
  },
  {
   "cell_type": "markdown",
   "metadata": {
    "id": "kiPiK2__CBK3"
   },
   "source": [
    "**Please write your answer for question 1 here**"
   ]
  },
  {
   "cell_type": "markdown",
   "metadata": {},
   "source": [
    "### Answer 1"
   ]
  },
  {
   "cell_type": "markdown",
   "metadata": {},
   "source": [
    "The 4 represents the number of images. The 3 represents each color of the image (red, green, blue). The two 32s represent the length and width of the image, meaning that 32 * 32 is the size of the image measured in number of pixels."
   ]
  },
  {
   "cell_type": "markdown",
   "metadata": {
    "id": "ch3WK3XfBTSJ"
   },
   "source": [
    "<!-- END QUESTION -->\n",
    "\n",
    "### Question 2\n",
    "Now we will start by defining a (relatively) small multilayer perceptron for classifying these images."
   ]
  },
  {
   "cell_type": "code",
   "execution_count": 11,
   "metadata": {
    "id": "1jAk-IijBTSK"
   },
   "outputs": [],
   "source": [
    "# Run but do not modify this code\n",
    "# Defines a multilayer perceptron class\n",
    "\n",
    "class MultilayerPerceptron(nn.Module):\n",
    "    def __init__(self):\n",
    "        super(MultilayerPerceptron, self).__init__()\n",
    "        self.flatten = nn.Flatten()\n",
    "        self.linear_relu_stack = nn.Sequential(\n",
    "            nn.Linear(32*32*3, 100),\n",
    "            nn.ReLU(),\n",
    "            nn.Linear(100, 25),\n",
    "            nn.ReLU(),\n",
    "            nn.Linear(25, 10),\n",
    "            nn.ReLU()\n",
    "        )\n",
    "\n",
    "    def forward(self, x):\n",
    "        x = self.flatten(x)\n",
    "        logits = self.linear_relu_stack(x)\n",
    "        return logits"
   ]
  },
  {
   "cell_type": "markdown",
   "metadata": {
    "id": "UPC0O8CnBTSO"
   },
   "source": [
    "Answer the following questions about this `MultilayerPerceptron` defined in the code above.\n",
    "1. How many neurons are there in the input layer of the neural network?\n",
    "2. How many **hidden** (that is, apart from the input and output layers) fully connected linear layers are there in the network?\n",
    "3. What nonlinear activation function is the network using?\n",
    "4. How many parameters are there for the connection between the input layer and the first hidden fully connected layer in the network?"
   ]
  },
  {
   "cell_type": "markdown",
   "metadata": {
    "id": "yjALtYqXqNRk"
   },
   "source": [
    "**Please fill your answers to question2 on Sakai**\n"
   ]
  },
  {
   "cell_type": "code",
   "execution_count": 8,
   "metadata": {
    "id": "OakdwgYRBTSR",
    "tags": []
   },
   "outputs": [
    {
     "data": {
      "text/plain": [
       "307300"
      ]
     },
     "execution_count": 8,
     "metadata": {},
     "output_type": "execute_result"
    }
   ],
   "source": [
    "# You can use this cell to play around and use as calculator\n",
    "# but you should fill them on Sakai quiz once you have the values\n",
    "#1. \n",
    "32 * 32 * 3\n",
    "\n",
    "#2. \n",
    "2\n",
    "\n",
    "#3.\n",
    "\"reLU\"\n",
    "\n",
    "#4.\n",
    "32 * 32 * 3 * 100 + 100\n"
   ]
  },
  {
   "cell_type": "markdown",
   "metadata": {
    "id": "Wdy1o4jvBTSS"
   },
   "source": [
    "### Question 3\n",
    "Now we define our hyperparameters, initialize our model and optimizer, and define our training and testing process. The training uses stochastic gradient descent and prints the average training loss after every 1,250 batches or 5,000 images. After each of three epochs of training we print the average accuracy of the model on the held out test data; this is the percentage of the test images that our model correctly classifies."
   ]
  },
  {
   "cell_type": "code",
   "execution_count": 12,
   "metadata": {
    "id": "p7Cf39J9BTSS"
   },
   "outputs": [],
   "source": [
    "# Run but do not modify this code\n",
    "# Defines hyperparameters \n",
    "\n",
    "torch.manual_seed(216)\n",
    "learning_rate = 1e-3\n",
    "epochs = 3"
   ]
  },
  {
   "cell_type": "code",
   "execution_count": 13,
   "metadata": {
    "id": "xjRrw7ZABTST"
   },
   "outputs": [],
   "source": [
    "# Run but do not modify this code\n",
    "# Initializes the network, loss function, and optimizer\n",
    "\n",
    "model = MultilayerPerceptron()\n",
    "loss_fn = nn.CrossEntropyLoss()\n",
    "optimizer = torch.optim.SGD(model.parameters(), lr=learning_rate)"
   ]
  },
  {
   "cell_type": "code",
   "execution_count": 14,
   "metadata": {
    "id": "05RKXAS2BTSV"
   },
   "outputs": [],
   "source": [
    "# Run but do not modify this code\n",
    "# Defines the training optimization process and\n",
    "# calculating accuracy on the held out testing data\n",
    "\n",
    "def train_loop(dataloader, model, loss_fn, optimizer):\n",
    "    size = len(dataloader.dataset)\n",
    "    avg_batch_loss = 0.0\n",
    "    for batch, (X, y) in enumerate(dataloader):\n",
    "        \n",
    "        # Compute prediction and loss\n",
    "        pred = model(X)\n",
    "        loss = loss_fn(pred, y)\n",
    "\n",
    "        # Backpropagation\n",
    "        optimizer.zero_grad()\n",
    "        loss.backward()\n",
    "        optimizer.step()\n",
    "        avg_batch_loss += loss.item()\n",
    "\n",
    "        # Print average loss every 1250 batches\n",
    "        if ((batch > 0) and (batch % 1250 == 0)):\n",
    "            loss, current = loss.item(), batch * len(X)\n",
    "            print(f\"Average Loss: {avg_batch_loss/1250:>7f}  [{current:>5d}/{size:>5d}]\")\n",
    "            avg_batch_loss = 0.0\n",
    "            \n",
    "def test_loop(dataloader, model, loss_fn):\n",
    "    size = len(dataloader.dataset)\n",
    "    test_loss, correct = 0, 0\n",
    "\n",
    "    with torch.no_grad():\n",
    "        for X, y in dataloader:\n",
    "            pred = model(X)\n",
    "            test_loss += loss_fn(pred, y).item()\n",
    "            correct += (pred.argmax(1) == y).type(torch.float).sum().item()\n",
    "\n",
    "    test_loss /= size\n",
    "    correct /= size\n",
    "    print(f\"Test Error: \\n Accuracy: {(100*correct):>0.1f}%, Avg loss: {test_loss:>8f} \\n\")"
   ]
  },
  {
   "cell_type": "code",
   "execution_count": 15,
   "metadata": {
    "id": "pIBCV0I1BTSZ",
    "outputId": "47cc2ce6-3023-4f2e-c171-5658d57cd1b5"
   },
   "outputs": [
    {
     "name": "stdout",
     "output_type": "stream",
     "text": [
      "Epoch 1\n",
      "-------------------------------\n",
      "Average Loss: 2.290818  [ 5000/50000]\n",
      "Average Loss: 2.275833  [10000/50000]\n",
      "Average Loss: 2.257851  [15000/50000]\n",
      "Average Loss: 2.230425  [20000/50000]\n",
      "Average Loss: 2.215106  [25000/50000]\n",
      "Average Loss: 2.187408  [30000/50000]\n",
      "Average Loss: 2.172581  [35000/50000]\n",
      "Average Loss: 2.161808  [40000/50000]\n",
      "Average Loss: 2.122573  [45000/50000]\n",
      "Test Error: \n",
      " Accuracy: 28.3%, Avg loss: 0.524415 \n",
      "\n",
      "Epoch 2\n",
      "-------------------------------\n",
      "Average Loss: 2.087480  [ 5000/50000]\n",
      "Average Loss: 2.074505  [10000/50000]\n",
      "Average Loss: 2.063074  [15000/50000]\n",
      "Average Loss: 2.047972  [20000/50000]\n",
      "Average Loss: 2.048514  [25000/50000]\n",
      "Average Loss: 2.032245  [30000/50000]\n",
      "Average Loss: 2.012808  [35000/50000]\n",
      "Average Loss: 1.996700  [40000/50000]\n",
      "Average Loss: 2.012723  [45000/50000]\n",
      "Test Error: \n",
      " Accuracy: 33.0%, Avg loss: 0.496114 \n",
      "\n",
      "Epoch 3\n",
      "-------------------------------\n",
      "Average Loss: 1.983893  [ 5000/50000]\n",
      "Average Loss: 1.991305  [10000/50000]\n",
      "Average Loss: 1.985071  [15000/50000]\n",
      "Average Loss: 1.943154  [20000/50000]\n",
      "Average Loss: 1.958306  [25000/50000]\n",
      "Average Loss: 1.970624  [30000/50000]\n",
      "Average Loss: 1.969362  [35000/50000]\n",
      "Average Loss: 1.972240  [40000/50000]\n",
      "Average Loss: 1.944836  [45000/50000]\n",
      "Test Error: \n",
      " Accuracy: 35.0%, Avg loss: 0.483908 \n",
      "\n",
      "Done!\n"
     ]
    }
   ],
   "source": [
    "# Run but do not modify this code\n",
    "# Performs 'epochs' of training with stochastic\n",
    "# gradient descent, printing average loss of every\n",
    "# 1250 batches. Prints test accuracy after each\n",
    "# epoch.\n",
    "# NOTE: Optimization on 50,000 training samples may take\n",
    "# some time, expect this code to run for several seconds \n",
    "# to a couple of minutes.\n",
    "\n",
    "for t in range(epochs):\n",
    "    print(f\"Epoch {t+1}\\n-------------------------------\")\n",
    "    train_loop(train_dataloader, model, loss_fn, optimizer)\n",
    "    test_loop(test_dataloader, model, loss_fn)\n",
    "print(\"Done!\")"
   ]
  },
  {
   "cell_type": "markdown",
   "metadata": {
    "id": "G7vfsEgiBTSb"
   },
   "source": [
    "Answer the following questions about the training/testing in the code above. For parts 2, 3, and 4 answer the first question in Sakai and include that answer in your response to the second question to make manual grading easier.\n",
    "\n",
    "1. There are 10 neurons in the output layer of the model. How does the code in `test_loop` predict a single class as an integer given the 10 values output by the model during forward propagation?\n",
    "\n",
    "2. After 3 epochs of training, is our model performing better than randomly guessing the class? If yes, how much? If no, how can you tell?\n",
    "\n",
    "3. Suppose we double the number of neurons in each of the hidden fully connected layers in the model. Would you expect the model to achieve better (lower) or worse (higher) loss during training? Briefly explain your answer.\n",
    "\n",
    "4. Again suppose we double the number of neurons in each of the hidden fully connected layers in the model. Would you expect training the model with stochastic gradient descent over three epochs to take less or more time? Briefly explain your answer."
   ]
  },
  {
   "cell_type": "markdown",
   "metadata": {},
   "source": [
    "**Please also answer the multiple choice questions on Sakai to test your understanding and get full credit for question3**"
   ]
  },
  {
   "cell_type": "markdown",
   "metadata": {},
   "source": [
    "### Answer 3"
   ]
  },
  {
   "cell_type": "markdown",
   "metadata": {},
   "source": [
    "1. test_loop uses pred.arg_max() to get the highest score in the prediction, which allows us to get to each of the 10 classes, which are represented by the values that are in the ouput layer of the model.\n",
    "\n",
    "2. Our model is performing better than randomly guessing on the class. Randomly guessing would yield a 10% accuracy rate, and our model yields a 35% accuracy rate.\n",
    "\n",
    "3. I would expect the model to achieve better/lower loss during training because having more neurons allows us to gain a better understanding of the image and clearly identify more parts of the image.\n",
    "\n",
    "4. It will take more time because there are more neurons and parameters to learn and train, which requires a lot more math/computation. Requiring more computation from your machine will cause it to take longer to finish all the math!"
   ]
  },
  {
   "cell_type": "markdown",
   "metadata": {
    "id": "2DyaLielBTSb"
   },
   "source": [
    "<!-- END QUESTION -->\n",
    "\n",
    "### Question 4\n",
    "Now we define a convolutional neural network for the same classification task."
   ]
  },
  {
   "cell_type": "code",
   "execution_count": 16,
   "metadata": {
    "id": "8n8zOZ3WBTSc"
   },
   "outputs": [],
   "source": [
    "# Run but do not modify this code\n",
    "# Defines a convolutional neural network class\n",
    "\n",
    "class ConvNet(nn.Module):\n",
    "    def __init__(self):\n",
    "        super(ConvNet, self).__init__()\n",
    "        self.conv_pool_stack = nn.Sequential(\n",
    "            nn.Conv2d(3, 6, 5),\n",
    "            nn.ReLU(),\n",
    "            nn.MaxPool2d(2, 2),\n",
    "            nn.Conv2d(6, 16, 5),\n",
    "            nn.ReLU(),\n",
    "            nn.MaxPool2d(2, 2),\n",
    "        )\n",
    "        self.flatten = nn.Flatten()\n",
    "        self.linear_relu_stack = nn.Sequential(\n",
    "            nn.Linear(16*5*5, 100),\n",
    "            nn.ReLU(),\n",
    "            nn.Linear(100, 25),\n",
    "            nn.ReLU(),\n",
    "            nn.Linear(25, 10),\n",
    "            nn.ReLU()\n",
    "        )\n",
    "\n",
    "    def forward(self, x):\n",
    "        convolved = self.conv_pool_stack(x)\n",
    "        flattened = self.flatten(convolved)\n",
    "        logits = self.linear_relu_stack(flattened)\n",
    "        return logits"
   ]
  },
  {
   "cell_type": "markdown",
   "metadata": {
    "id": "mpjlqDSdBTSc"
   },
   "source": [
    "Answer the following questions about the `ConvNet` class defined in the code above. For each part, answer the question in **Sakai**.\n",
    "\n",
    "1. The first hidden fully connected linear layer in the network, after convolving, pooling, and flattening, has $16 \\times 5 \\times 5 = 400$ neurons. This is much less than the size of the input for the `MultilayerPerceptron` model. What part of the `ConvNet` most accounts for this reduction in the input size?\n",
    "\n",
    "2. Are there more parameters in the `conv_pool_stack` or the `linear_relu_stack` portions of the network?\n",
    "\n",
    "3. Does this model have more or fewer total parameters than the `MultilayerPerceptron` defined previously?"
   ]
  },
  {
   "cell_type": "markdown",
   "metadata": {},
   "source": [
    "### Answer 4 (write an explanation below for your answers if useful, but not required)"
   ]
  },
  {
   "cell_type": "markdown",
   "metadata": {},
   "source": [
    "1. The pooling layers most account for this reduction in the input size. Each of the two pooling layers reduce the layer by a factor of 4, and 4 * 4 = 16, which is the total reduction performed by the pooling layers.\n",
    "\n",
    "2. There are more parameters in the linear_relu_stack portion of the network. We can see this in the following calculations:\n",
    "    a. linear_relu_stack: 16 * 5 * 5 * 100 + 100\n",
    "    b. conv_pool_stack: 5 * 5 * 6 + 6\n",
    "    \n",
    "3. This model has fewer total parameters than the one defined previously."
   ]
  },
  {
   "cell_type": "markdown",
   "metadata": {
    "id": "t9Yq31hwBTSd"
   },
   "source": [
    "<!-- END QUESTION -->\n",
    "\n",
    "### Question 5\n",
    "Now we define our hyperparameters, initialize our model and optimizer, and define our training and testing process. As for the `MultilayerPerceptron`, the training uses stochastic gradient descent and prints the average training loss after every 1,250 batches or 5,000 images. After each of three epochs of training we print the average accuracy of the model on the held out test data; this is the percentage of the test images that our model correctly classifies."
   ]
  },
  {
   "cell_type": "code",
   "execution_count": 17,
   "metadata": {
    "id": "WqpZ17HxBTSd"
   },
   "outputs": [],
   "source": [
    "# Run but do not modify this code\n",
    "\n",
    "torch.manual_seed(216)\n",
    "learning_rate = 1e-3\n",
    "epochs = 3\n",
    "conv_model = ConvNet()\n",
    "loss_fn = nn.CrossEntropyLoss()\n",
    "optimizer = torch.optim.SGD(conv_model.parameters(), lr=learning_rate)"
   ]
  },
  {
   "cell_type": "code",
   "execution_count": 18,
   "metadata": {
    "id": "NntqWnuABTSi",
    "outputId": "90c15836-e6e1-41ed-f02a-6b8c501b2aca"
   },
   "outputs": [
    {
     "name": "stdout",
     "output_type": "stream",
     "text": [
      "Epoch 1\n",
      "-------------------------------\n",
      "Average Loss: 2.305754  [ 5000/50000]\n",
      "Average Loss: 2.303169  [10000/50000]\n",
      "Average Loss: 2.302088  [15000/50000]\n",
      "Average Loss: 2.300232  [20000/50000]\n",
      "Average Loss: 2.299100  [25000/50000]\n",
      "Average Loss: 2.298131  [30000/50000]\n",
      "Average Loss: 2.296782  [35000/50000]\n",
      "Average Loss: 2.293333  [40000/50000]\n",
      "Average Loss: 2.288082  [45000/50000]\n",
      "Test Error: \n",
      " Accuracy: 22.6%, Avg loss: 0.569334 \n",
      "\n",
      "Epoch 2\n",
      "-------------------------------\n",
      "Average Loss: 2.272472  [ 5000/50000]\n",
      "Average Loss: 2.247728  [10000/50000]\n",
      "Average Loss: 2.208752  [15000/50000]\n",
      "Average Loss: 2.164980  [20000/50000]\n",
      "Average Loss: 2.146127  [25000/50000]\n",
      "Average Loss: 2.073447  [30000/50000]\n",
      "Average Loss: 2.004846  [35000/50000]\n",
      "Average Loss: 1.962063  [40000/50000]\n",
      "Average Loss: 1.932659  [45000/50000]\n",
      "Test Error: \n",
      " Accuracy: 31.7%, Avg loss: 0.470016 \n",
      "\n",
      "Epoch 3\n",
      "-------------------------------\n",
      "Average Loss: 1.895966  [ 5000/50000]\n",
      "Average Loss: 1.866154  [10000/50000]\n",
      "Average Loss: 1.812894  [15000/50000]\n",
      "Average Loss: 1.804622  [20000/50000]\n",
      "Average Loss: 1.785346  [25000/50000]\n",
      "Average Loss: 1.762495  [30000/50000]\n",
      "Average Loss: 1.721050  [35000/50000]\n",
      "Average Loss: 1.697427  [40000/50000]\n",
      "Average Loss: 1.694495  [45000/50000]\n",
      "Test Error: \n",
      " Accuracy: 39.4%, Avg loss: 0.409600 \n",
      "\n",
      "Done!\n"
     ]
    }
   ],
   "source": [
    "# Run but do not modify this code\n",
    "# Performs 'epochs' of training with stochastic\n",
    "# gradient descent, printing average loss of every\n",
    "# 1250 batches. Prints test accuracy after each\n",
    "# epoch.\n",
    "# NOTE: Optimization on 50,000 training samples may take\n",
    "# some time, expect this code to run for several seconds \n",
    "# to a couple of minutes.\n",
    "\n",
    "for t in range(epochs):\n",
    "    print(f\"Epoch {t+1}\\n-------------------------------\")\n",
    "    train_loop(train_dataloader, conv_model, loss_fn, optimizer)\n",
    "    test_loop(test_dataloader, conv_model, loss_fn)\n",
    "print(\"Done!\")"
   ]
  },
  {
   "cell_type": "markdown",
   "metadata": {
    "id": "ii8vS7jeBTSj"
   },
   "source": [
    "Answer the following questions about this the training/testing in the code above. For part 2 answer the first question in Sakai and include that answer in your explanation to make manual grading easier.\n",
    "\n",
    "1. Compare the results with the `ConvNet` to those obtained with the `MultilayerPerceptron`. In particular, look at the trend of the training loss as it trains. Do you see a difference?\n",
    "\n",
    "2. Based on your observation of the training loss of the `ConvNet` during the third epoch of training, do you think increasing the `learning_rate` (the step size of stochastic gradient descent) somewhat (say, from 0.001 to 0.01) would result in better or worse accuracy during testing after three epochs of training? Briefly explain your answer. "
   ]
  },
  {
   "cell_type": "markdown",
   "metadata": {},
   "source": [
    "### Answer 5"
   ]
  },
  {
   "cell_type": "markdown",
   "metadata": {},
   "source": [
    "**Please also answer the multiple choice questions on Sakai to test your understanding and get full credit for question5**"
   ]
  },
  {
   "cell_type": "markdown",
   "metadata": {},
   "source": [
    "1. We see a difference in accuracy between the ConvNet model and the MultilayerPerceptron model. The final accuracy value after Epoch 3 is 39.4%, which is 4.4% greater than the final value for the MultilayerPerceptron model, which was 35%.\n",
    "\n",
    "2. Increasing the learning_rate would result in better accuracy during testing after three epochs of training. The accuracy after each epoch increased, and to further increase these accuracy values without changing the number of epochs would be to increase the step size of stochastic gradient descent."
   ]
  },
  {
   "cell_type": "markdown",
   "metadata": {},
   "source": [
    "<!-- END QUESTION -->\n",
    "\n",
    "## Submitting\n",
    "\n",
    "You should make sure any code that you write to answer the questions is included in this notebook. We recommend you go to the Kernel option and choose \\\"Restart & Run All.\\\" Please allow time for the code to finish executing; the code in this notebook may take a few minutes to run. Double check that your entire notebook runs correctly and generates the expected output. Finally, make sure to save your work (timestamp at the top tells you the last checkpoint and whether there are unsaved changes). When you finish, submit your assignment at [Gradescope](http://gradescope.com/)."
   ]
  }
 ],
 "metadata": {
  "accelerator": "GPU",
  "colab": {
   "collapsed_sections": [],
   "name": "practice7.ipynb",
   "provenance": []
  },
  "kernelspec": {
   "display_name": "Python 3 (ipykernel)",
   "language": "python",
   "name": "python3"
  },
  "language_info": {
   "codemirror_mode": {
    "name": "ipython",
    "version": 3
   },
   "file_extension": ".py",
   "mimetype": "text/x-python",
   "name": "python",
   "nbconvert_exporter": "python",
   "pygments_lexer": "ipython3",
   "version": "3.9.12"
  },
  "otter": {
   "OK_FORMAT": true,
   "tests": {
    "q2": {
     "name": "q2",
     "points": 0,
     "suites": [
      {
       "cases": [
        {
         "code": ">>> True # Sanity check for your Homework\nTrue",
         "hidden": false,
         "locked": false
        }
       ],
       "scored": true,
       "setup": "",
       "teardown": "",
       "type": "doctest"
      }
     ]
    }
   }
  },
  "widgets": {
   "application/vnd.jupyter.widget-state+json": {
    "0dcd387494334475bd6eed273d52fc73": {
     "model_module": "@jupyter-widgets/base",
     "model_module_version": "1.2.0",
     "model_name": "LayoutModel",
     "state": {
      "_model_module": "@jupyter-widgets/base",
      "_model_module_version": "1.2.0",
      "_model_name": "LayoutModel",
      "_view_count": null,
      "_view_module": "@jupyter-widgets/base",
      "_view_module_version": "1.2.0",
      "_view_name": "LayoutView",
      "align_content": null,
      "align_items": null,
      "align_self": null,
      "border": null,
      "bottom": null,
      "display": null,
      "flex": null,
      "flex_flow": null,
      "grid_area": null,
      "grid_auto_columns": null,
      "grid_auto_flow": null,
      "grid_auto_rows": null,
      "grid_column": null,
      "grid_gap": null,
      "grid_row": null,
      "grid_template_areas": null,
      "grid_template_columns": null,
      "grid_template_rows": null,
      "height": null,
      "justify_content": null,
      "justify_items": null,
      "left": null,
      "margin": null,
      "max_height": null,
      "max_width": null,
      "min_height": null,
      "min_width": null,
      "object_fit": null,
      "object_position": null,
      "order": null,
      "overflow": null,
      "overflow_x": null,
      "overflow_y": null,
      "padding": null,
      "right": null,
      "top": null,
      "visibility": null,
      "width": null
     }
    },
    "19e42179a82d4250b302238f0b28bbe7": {
     "model_module": "@jupyter-widgets/controls",
     "model_module_version": "1.5.0",
     "model_name": "DescriptionStyleModel",
     "state": {
      "_model_module": "@jupyter-widgets/controls",
      "_model_module_version": "1.5.0",
      "_model_name": "DescriptionStyleModel",
      "_view_count": null,
      "_view_module": "@jupyter-widgets/base",
      "_view_module_version": "1.2.0",
      "_view_name": "StyleView",
      "description_width": ""
     }
    },
    "2aaf32ce2de2425c9ad0c662592fd36c": {
     "model_module": "@jupyter-widgets/controls",
     "model_module_version": "1.5.0",
     "model_name": "HBoxModel",
     "state": {
      "_dom_classes": [],
      "_model_module": "@jupyter-widgets/controls",
      "_model_module_version": "1.5.0",
      "_model_name": "HBoxModel",
      "_view_count": null,
      "_view_module": "@jupyter-widgets/controls",
      "_view_module_version": "1.5.0",
      "_view_name": "HBoxView",
      "box_style": "",
      "children": [
       "IPY_MODEL_fbaf8a68cbf741b3a184649962aef2c0",
       "IPY_MODEL_533576a7f6074b2f8a098b69eaa03365",
       "IPY_MODEL_8145b42aa9c647b9a9a3af614a027fc7"
      ],
      "layout": "IPY_MODEL_60dc78afcde44cf2b7f4134b0d264693"
     }
    },
    "533576a7f6074b2f8a098b69eaa03365": {
     "model_module": "@jupyter-widgets/controls",
     "model_module_version": "1.5.0",
     "model_name": "FloatProgressModel",
     "state": {
      "_dom_classes": [],
      "_model_module": "@jupyter-widgets/controls",
      "_model_module_version": "1.5.0",
      "_model_name": "FloatProgressModel",
      "_view_count": null,
      "_view_module": "@jupyter-widgets/controls",
      "_view_module_version": "1.5.0",
      "_view_name": "ProgressView",
      "bar_style": "success",
      "description": "",
      "description_tooltip": null,
      "layout": "IPY_MODEL_8cccac49e7714195810e5bb18ba297d1",
      "max": 170498071,
      "min": 0,
      "orientation": "horizontal",
      "style": "IPY_MODEL_fdb3ae48121c4ec1b910d2c0033d197e",
      "value": 170498071
     }
    },
    "60dc78afcde44cf2b7f4134b0d264693": {
     "model_module": "@jupyter-widgets/base",
     "model_module_version": "1.2.0",
     "model_name": "LayoutModel",
     "state": {
      "_model_module": "@jupyter-widgets/base",
      "_model_module_version": "1.2.0",
      "_model_name": "LayoutModel",
      "_view_count": null,
      "_view_module": "@jupyter-widgets/base",
      "_view_module_version": "1.2.0",
      "_view_name": "LayoutView",
      "align_content": null,
      "align_items": null,
      "align_self": null,
      "border": null,
      "bottom": null,
      "display": null,
      "flex": null,
      "flex_flow": null,
      "grid_area": null,
      "grid_auto_columns": null,
      "grid_auto_flow": null,
      "grid_auto_rows": null,
      "grid_column": null,
      "grid_gap": null,
      "grid_row": null,
      "grid_template_areas": null,
      "grid_template_columns": null,
      "grid_template_rows": null,
      "height": null,
      "justify_content": null,
      "justify_items": null,
      "left": null,
      "margin": null,
      "max_height": null,
      "max_width": null,
      "min_height": null,
      "min_width": null,
      "object_fit": null,
      "object_position": null,
      "order": null,
      "overflow": null,
      "overflow_x": null,
      "overflow_y": null,
      "padding": null,
      "right": null,
      "top": null,
      "visibility": null,
      "width": null
     }
    },
    "75c5113decb34b4fbc0e4388138e7fd6": {
     "model_module": "@jupyter-widgets/controls",
     "model_module_version": "1.5.0",
     "model_name": "DescriptionStyleModel",
     "state": {
      "_model_module": "@jupyter-widgets/controls",
      "_model_module_version": "1.5.0",
      "_model_name": "DescriptionStyleModel",
      "_view_count": null,
      "_view_module": "@jupyter-widgets/base",
      "_view_module_version": "1.2.0",
      "_view_name": "StyleView",
      "description_width": ""
     }
    },
    "8145b42aa9c647b9a9a3af614a027fc7": {
     "model_module": "@jupyter-widgets/controls",
     "model_module_version": "1.5.0",
     "model_name": "HTMLModel",
     "state": {
      "_dom_classes": [],
      "_model_module": "@jupyter-widgets/controls",
      "_model_module_version": "1.5.0",
      "_model_name": "HTMLModel",
      "_view_count": null,
      "_view_module": "@jupyter-widgets/controls",
      "_view_module_version": "1.5.0",
      "_view_name": "HTMLView",
      "description": "",
      "description_tooltip": null,
      "layout": "IPY_MODEL_acc13af80b874972bd10f4055e6823fc",
      "placeholder": "​",
      "style": "IPY_MODEL_19e42179a82d4250b302238f0b28bbe7",
      "value": " 170499072/? [00:03&lt;00:00, 47976438.89it/s]"
     }
    },
    "8cccac49e7714195810e5bb18ba297d1": {
     "model_module": "@jupyter-widgets/base",
     "model_module_version": "1.2.0",
     "model_name": "LayoutModel",
     "state": {
      "_model_module": "@jupyter-widgets/base",
      "_model_module_version": "1.2.0",
      "_model_name": "LayoutModel",
      "_view_count": null,
      "_view_module": "@jupyter-widgets/base",
      "_view_module_version": "1.2.0",
      "_view_name": "LayoutView",
      "align_content": null,
      "align_items": null,
      "align_self": null,
      "border": null,
      "bottom": null,
      "display": null,
      "flex": null,
      "flex_flow": null,
      "grid_area": null,
      "grid_auto_columns": null,
      "grid_auto_flow": null,
      "grid_auto_rows": null,
      "grid_column": null,
      "grid_gap": null,
      "grid_row": null,
      "grid_template_areas": null,
      "grid_template_columns": null,
      "grid_template_rows": null,
      "height": null,
      "justify_content": null,
      "justify_items": null,
      "left": null,
      "margin": null,
      "max_height": null,
      "max_width": null,
      "min_height": null,
      "min_width": null,
      "object_fit": null,
      "object_position": null,
      "order": null,
      "overflow": null,
      "overflow_x": null,
      "overflow_y": null,
      "padding": null,
      "right": null,
      "top": null,
      "visibility": null,
      "width": null
     }
    },
    "acc13af80b874972bd10f4055e6823fc": {
     "model_module": "@jupyter-widgets/base",
     "model_module_version": "1.2.0",
     "model_name": "LayoutModel",
     "state": {
      "_model_module": "@jupyter-widgets/base",
      "_model_module_version": "1.2.0",
      "_model_name": "LayoutModel",
      "_view_count": null,
      "_view_module": "@jupyter-widgets/base",
      "_view_module_version": "1.2.0",
      "_view_name": "LayoutView",
      "align_content": null,
      "align_items": null,
      "align_self": null,
      "border": null,
      "bottom": null,
      "display": null,
      "flex": null,
      "flex_flow": null,
      "grid_area": null,
      "grid_auto_columns": null,
      "grid_auto_flow": null,
      "grid_auto_rows": null,
      "grid_column": null,
      "grid_gap": null,
      "grid_row": null,
      "grid_template_areas": null,
      "grid_template_columns": null,
      "grid_template_rows": null,
      "height": null,
      "justify_content": null,
      "justify_items": null,
      "left": null,
      "margin": null,
      "max_height": null,
      "max_width": null,
      "min_height": null,
      "min_width": null,
      "object_fit": null,
      "object_position": null,
      "order": null,
      "overflow": null,
      "overflow_x": null,
      "overflow_y": null,
      "padding": null,
      "right": null,
      "top": null,
      "visibility": null,
      "width": null
     }
    },
    "fbaf8a68cbf741b3a184649962aef2c0": {
     "model_module": "@jupyter-widgets/controls",
     "model_module_version": "1.5.0",
     "model_name": "HTMLModel",
     "state": {
      "_dom_classes": [],
      "_model_module": "@jupyter-widgets/controls",
      "_model_module_version": "1.5.0",
      "_model_name": "HTMLModel",
      "_view_count": null,
      "_view_module": "@jupyter-widgets/controls",
      "_view_module_version": "1.5.0",
      "_view_name": "HTMLView",
      "description": "",
      "description_tooltip": null,
      "layout": "IPY_MODEL_0dcd387494334475bd6eed273d52fc73",
      "placeholder": "​",
      "style": "IPY_MODEL_75c5113decb34b4fbc0e4388138e7fd6",
      "value": ""
     }
    },
    "fdb3ae48121c4ec1b910d2c0033d197e": {
     "model_module": "@jupyter-widgets/controls",
     "model_module_version": "1.5.0",
     "model_name": "ProgressStyleModel",
     "state": {
      "_model_module": "@jupyter-widgets/controls",
      "_model_module_version": "1.5.0",
      "_model_name": "ProgressStyleModel",
      "_view_count": null,
      "_view_module": "@jupyter-widgets/base",
      "_view_module_version": "1.2.0",
      "_view_name": "StyleView",
      "bar_color": null,
      "description_width": ""
     }
    }
   }
  }
 },
 "nbformat": 4,
 "nbformat_minor": 4
}
